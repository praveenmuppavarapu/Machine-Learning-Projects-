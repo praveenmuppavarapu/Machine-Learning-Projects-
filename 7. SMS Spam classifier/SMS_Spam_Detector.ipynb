{
 "cells": [
  {
   "cell_type": "markdown",
   "id": "67377323",
   "metadata": {},
   "source": [
    "# Problem statement: \n",
    "Spam is a major problem for users. It can be time-consuming and annoying to filter out spam messages, and it can also be a security risk.\n",
    "\n",
    "The objective of this project is to develop a spam classifier that can be used to automatically classify messages as spam or ham (not spam). This can help users to quickly and easily identify and filter out spam messages.\n"
   ]
  },
  {
   "cell_type": "code",
   "execution_count": 48,
   "id": "b7ebbcee",
   "metadata": {},
   "outputs": [],
   "source": [
    "# Importing necessary libraries\n",
    "import numpy as np \n",
    "import pandas as pd \n",
    "import matplotlib.pyplot as plt \n",
    "import seaborn as sb"
   ]
  },
  {
   "cell_type": "code",
   "execution_count": 49,
   "id": "cf08e262",
   "metadata": {},
   "outputs": [
    {
     "data": {
      "text/html": [
       "<div>\n",
       "<style scoped>\n",
       "    .dataframe tbody tr th:only-of-type {\n",
       "        vertical-align: middle;\n",
       "    }\n",
       "\n",
       "    .dataframe tbody tr th {\n",
       "        vertical-align: top;\n",
       "    }\n",
       "\n",
       "    .dataframe thead th {\n",
       "        text-align: right;\n",
       "    }\n",
       "</style>\n",
       "<table border=\"1\" class=\"dataframe\">\n",
       "  <thead>\n",
       "    <tr style=\"text-align: right;\">\n",
       "      <th></th>\n",
       "      <th>v1</th>\n",
       "      <th>v2</th>\n",
       "      <th>Unnamed: 2</th>\n",
       "      <th>Unnamed: 3</th>\n",
       "      <th>Unnamed: 4</th>\n",
       "    </tr>\n",
       "  </thead>\n",
       "  <tbody>\n",
       "    <tr>\n",
       "      <th>0</th>\n",
       "      <td>ham</td>\n",
       "      <td>Go until jurong point, crazy.. Available only ...</td>\n",
       "      <td>NaN</td>\n",
       "      <td>NaN</td>\n",
       "      <td>NaN</td>\n",
       "    </tr>\n",
       "    <tr>\n",
       "      <th>1</th>\n",
       "      <td>ham</td>\n",
       "      <td>Ok lar... Joking wif u oni...</td>\n",
       "      <td>NaN</td>\n",
       "      <td>NaN</td>\n",
       "      <td>NaN</td>\n",
       "    </tr>\n",
       "    <tr>\n",
       "      <th>2</th>\n",
       "      <td>spam</td>\n",
       "      <td>Free entry in 2 a wkly comp to win FA Cup fina...</td>\n",
       "      <td>NaN</td>\n",
       "      <td>NaN</td>\n",
       "      <td>NaN</td>\n",
       "    </tr>\n",
       "    <tr>\n",
       "      <th>3</th>\n",
       "      <td>ham</td>\n",
       "      <td>U dun say so early hor... U c already then say...</td>\n",
       "      <td>NaN</td>\n",
       "      <td>NaN</td>\n",
       "      <td>NaN</td>\n",
       "    </tr>\n",
       "    <tr>\n",
       "      <th>4</th>\n",
       "      <td>ham</td>\n",
       "      <td>Nah I don't think he goes to usf, he lives aro...</td>\n",
       "      <td>NaN</td>\n",
       "      <td>NaN</td>\n",
       "      <td>NaN</td>\n",
       "    </tr>\n",
       "  </tbody>\n",
       "</table>\n",
       "</div>"
      ],
      "text/plain": [
       "     v1                                                 v2 Unnamed: 2  \\\n",
       "0   ham  Go until jurong point, crazy.. Available only ...        NaN   \n",
       "1   ham                      Ok lar... Joking wif u oni...        NaN   \n",
       "2  spam  Free entry in 2 a wkly comp to win FA Cup fina...        NaN   \n",
       "3   ham  U dun say so early hor... U c already then say...        NaN   \n",
       "4   ham  Nah I don't think he goes to usf, he lives aro...        NaN   \n",
       "\n",
       "  Unnamed: 3 Unnamed: 4  \n",
       "0        NaN        NaN  \n",
       "1        NaN        NaN  \n",
       "2        NaN        NaN  \n",
       "3        NaN        NaN  \n",
       "4        NaN        NaN  "
      ]
     },
     "execution_count": 49,
     "metadata": {},
     "output_type": "execute_result"
    }
   ],
   "source": [
    "# Reading data\n",
    "df = pd.read_csv(r\"C:\\Users\\prasa\\Dropbox\\PC\\Desktop\\ML-Projects\\Portfolio\\SMS spam detection\\spam.csv\",encoding='latin8')\n",
    "df.head()"
   ]
  },
  {
   "cell_type": "code",
   "execution_count": 50,
   "id": "3c43ec55",
   "metadata": {},
   "outputs": [
    {
     "data": {
      "text/plain": [
       "v1               0\n",
       "v2               0\n",
       "Unnamed: 2    5522\n",
       "Unnamed: 3    5560\n",
       "Unnamed: 4    5566\n",
       "dtype: int64"
      ]
     },
     "execution_count": 50,
     "metadata": {},
     "output_type": "execute_result"
    }
   ],
   "source": [
    "df.isna().sum()"
   ]
  },
  {
   "cell_type": "code",
   "execution_count": 51,
   "id": "71c9147b",
   "metadata": {},
   "outputs": [
    {
     "data": {
      "text/html": [
       "<div>\n",
       "<style scoped>\n",
       "    .dataframe tbody tr th:only-of-type {\n",
       "        vertical-align: middle;\n",
       "    }\n",
       "\n",
       "    .dataframe tbody tr th {\n",
       "        vertical-align: top;\n",
       "    }\n",
       "\n",
       "    .dataframe thead th {\n",
       "        text-align: right;\n",
       "    }\n",
       "</style>\n",
       "<table border=\"1\" class=\"dataframe\">\n",
       "  <thead>\n",
       "    <tr style=\"text-align: right;\">\n",
       "      <th></th>\n",
       "      <th>v1</th>\n",
       "      <th>v2</th>\n",
       "    </tr>\n",
       "  </thead>\n",
       "  <tbody>\n",
       "    <tr>\n",
       "      <th>197</th>\n",
       "      <td>ham</td>\n",
       "      <td>is your hamster dead? Hey so tmr i meet you at...</td>\n",
       "    </tr>\n",
       "    <tr>\n",
       "      <th>2037</th>\n",
       "      <td>ham</td>\n",
       "      <td>Oh sorry please its over</td>\n",
       "    </tr>\n",
       "    <tr>\n",
       "      <th>942</th>\n",
       "      <td>spam</td>\n",
       "      <td>How about getting in touch with folks waiting ...</td>\n",
       "    </tr>\n",
       "  </tbody>\n",
       "</table>\n",
       "</div>"
      ],
      "text/plain": [
       "        v1                                                 v2\n",
       "197    ham  is your hamster dead? Hey so tmr i meet you at...\n",
       "2037   ham                           Oh sorry please its over\n",
       "942   spam  How about getting in touch with folks waiting ..."
      ]
     },
     "execution_count": 51,
     "metadata": {},
     "output_type": "execute_result"
    }
   ],
   "source": [
    "# Considering only the V1 and V2 columns.\n",
    "df.drop(['Unnamed: 2','Unnamed: 3','Unnamed: 4'],axis=1,inplace=True)\n",
    "df.sample(3)"
   ]
  },
  {
   "cell_type": "code",
   "execution_count": 52,
   "id": "ba9a6adf",
   "metadata": {},
   "outputs": [],
   "source": [
    "# Renaming the columns \n",
    "df.rename({\n",
    "    'v1': 'target',\n",
    "    'v2': 'sms'\n",
    "},axis=1,inplace=True)\n"
   ]
  },
  {
   "cell_type": "code",
   "execution_count": 53,
   "id": "c239b370",
   "metadata": {},
   "outputs": [
    {
     "data": {
      "text/html": [
       "<div>\n",
       "<style scoped>\n",
       "    .dataframe tbody tr th:only-of-type {\n",
       "        vertical-align: middle;\n",
       "    }\n",
       "\n",
       "    .dataframe tbody tr th {\n",
       "        vertical-align: top;\n",
       "    }\n",
       "\n",
       "    .dataframe thead th {\n",
       "        text-align: right;\n",
       "    }\n",
       "</style>\n",
       "<table border=\"1\" class=\"dataframe\">\n",
       "  <thead>\n",
       "    <tr style=\"text-align: right;\">\n",
       "      <th></th>\n",
       "      <th>target</th>\n",
       "      <th>sms</th>\n",
       "    </tr>\n",
       "  </thead>\n",
       "  <tbody>\n",
       "    <tr>\n",
       "      <th>2784</th>\n",
       "      <td>ham</td>\n",
       "      <td>K, wat s tht incident?</td>\n",
       "    </tr>\n",
       "    <tr>\n",
       "      <th>189</th>\n",
       "      <td>ham</td>\n",
       "      <td>I jus reached home. I go bathe first. But my s...</td>\n",
       "    </tr>\n",
       "  </tbody>\n",
       "</table>\n",
       "</div>"
      ],
      "text/plain": [
       "     target                                                sms\n",
       "2784    ham                             K, wat s tht incident?\n",
       "189     ham  I jus reached home. I go bathe first. But my s..."
      ]
     },
     "execution_count": 53,
     "metadata": {},
     "output_type": "execute_result"
    }
   ],
   "source": [
    "df.sample(2)"
   ]
  },
  {
   "cell_type": "code",
   "execution_count": 54,
   "id": "9cef8bf1",
   "metadata": {},
   "outputs": [
    {
     "data": {
      "text/plain": [
       "(5572, 2)"
      ]
     },
     "execution_count": 54,
     "metadata": {},
     "output_type": "execute_result"
    }
   ],
   "source": [
    "# Checking the shaoe of the data frame\n",
    "df.shape"
   ]
  },
  {
   "cell_type": "code",
   "execution_count": 55,
   "id": "fd5968cf",
   "metadata": {},
   "outputs": [
    {
     "data": {
      "text/plain": [
       "<AxesSubplot:>"
      ]
     },
     "execution_count": 55,
     "metadata": {},
     "output_type": "execute_result"
    },
    {
     "data": {
      "image/png": "[encoded data removed]",
      "text/plain": [
       "<Figure size 432x288 with 1 Axes>"
      ]
     },
     "metadata": {
      "needs_background": "light"
     },
     "output_type": "display_data"
    }
   ],
   "source": [
    "# Analysing the target variable\n",
    "df['target'].value_counts().plot(kind='bar')"
   ]
  },
  {
   "cell_type": "markdown",
   "id": "17bb20a1",
   "metadata": {},
   "source": [
    "Data is imbalanced. This should be remembered while checking the accuracy of the model.\n"
   ]
  },
  {
   "cell_type": "code",
   "execution_count": 56,
   "id": "96671bdd",
   "metadata": {},
   "outputs": [
    {
     "data": {
      "text/html": [
       "<div>\n",
       "<style scoped>\n",
       "    .dataframe tbody tr th:only-of-type {\n",
       "        vertical-align: middle;\n",
       "    }\n",
       "\n",
       "    .dataframe tbody tr th {\n",
       "        vertical-align: top;\n",
       "    }\n",
       "\n",
       "    .dataframe thead th {\n",
       "        text-align: right;\n",
       "    }\n",
       "</style>\n",
       "<table border=\"1\" class=\"dataframe\">\n",
       "  <thead>\n",
       "    <tr style=\"text-align: right;\">\n",
       "      <th></th>\n",
       "      <th>target</th>\n",
       "      <th>sms</th>\n",
       "    </tr>\n",
       "  </thead>\n",
       "  <tbody>\n",
       "    <tr>\n",
       "      <th>3657</th>\n",
       "      <td>0</td>\n",
       "      <td>R u here yet? I'm wearing blue shirt n black p...</td>\n",
       "    </tr>\n",
       "    <tr>\n",
       "      <th>5087</th>\n",
       "      <td>0</td>\n",
       "      <td>Good morning, im suffering from fever and dyse...</td>\n",
       "    </tr>\n",
       "    <tr>\n",
       "      <th>4423</th>\n",
       "      <td>0</td>\n",
       "      <td>Update your face book status frequently :)</td>\n",
       "    </tr>\n",
       "  </tbody>\n",
       "</table>\n",
       "</div>"
      ],
      "text/plain": [
       "      target                                                sms\n",
       "3657       0  R u here yet? I'm wearing blue shirt n black p...\n",
       "5087       0  Good morning, im suffering from fever and dyse...\n",
       "4423       0         Update your face book status frequently :)"
      ]
     },
     "execution_count": 56,
     "metadata": {},
     "output_type": "execute_result"
    }
   ],
   "source": [
    "# Encoding the Spam message as 1 and ham message as 0\n",
    "df['target'] = df['target'].replace({'spam':1,\n",
    "          'ham':0})\n",
    "df.sample(3)"
   ]
  },
  {
   "cell_type": "markdown",
   "id": "160e360c",
   "metadata": {},
   "source": [
    "# Extracting some additional features from the text"
   ]
  },
  {
   "cell_type": "code",
   "execution_count": 57,
   "id": "b8a5c694",
   "metadata": {},
   "outputs": [
    {
     "data": {
      "text/html": [
       "<div>\n",
       "<style scoped>\n",
       "    .dataframe tbody tr th:only-of-type {\n",
       "        vertical-align: middle;\n",
       "    }\n",
       "\n",
       "    .dataframe tbody tr th {\n",
       "        vertical-align: top;\n",
       "    }\n",
       "\n",
       "    .dataframe thead th {\n",
       "        text-align: right;\n",
       "    }\n",
       "</style>\n",
       "<table border=\"1\" class=\"dataframe\">\n",
       "  <thead>\n",
       "    <tr style=\"text-align: right;\">\n",
       "      <th></th>\n",
       "      <th>target</th>\n",
       "      <th>sms</th>\n",
       "      <th>charecters_count</th>\n",
       "    </tr>\n",
       "  </thead>\n",
       "  <tbody>\n",
       "    <tr>\n",
       "      <th>4485</th>\n",
       "      <td>0</td>\n",
       "      <td>have * good weekend.</td>\n",
       "      <td>20</td>\n",
       "    </tr>\n",
       "    <tr>\n",
       "      <th>1940</th>\n",
       "      <td>0</td>\n",
       "      <td>Dude avatar 3d was imp. At one point i thought...</td>\n",
       "      <td>124</td>\n",
       "    </tr>\n",
       "    <tr>\n",
       "      <th>500</th>\n",
       "      <td>0</td>\n",
       "      <td>Fighting with the world is easy, u either win ...</td>\n",
       "      <td>149</td>\n",
       "    </tr>\n",
       "  </tbody>\n",
       "</table>\n",
       "</div>"
      ],
      "text/plain": [
       "      target                                                sms  \\\n",
       "4485       0                               have * good weekend.   \n",
       "1940       0  Dude avatar 3d was imp. At one point i thought...   \n",
       "500        0  Fighting with the world is easy, u either win ...   \n",
       "\n",
       "      charecters_count  \n",
       "4485                20  \n",
       "1940               124  \n",
       "500                149  "
      ]
     },
     "execution_count": 57,
     "metadata": {},
     "output_type": "execute_result"
    }
   ],
   "source": [
    "\n",
    "# 1. Charecters count: No of charecters in the given SMS\n",
    "df['charecters_count'] = df['sms'].apply(lambda x: len(x))\n",
    "df.sample(3)"
   ]
  },
  {
   "cell_type": "code",
   "execution_count": 58,
   "id": "5545d007",
   "metadata": {},
   "outputs": [
    {
     "data": {
      "text/html": [
       "<div>\n",
       "<style scoped>\n",
       "    .dataframe tbody tr th:only-of-type {\n",
       "        vertical-align: middle;\n",
       "    }\n",
       "\n",
       "    .dataframe tbody tr th {\n",
       "        vertical-align: top;\n",
       "    }\n",
       "\n",
       "    .dataframe thead th {\n",
       "        text-align: right;\n",
       "    }\n",
       "</style>\n",
       "<table border=\"1\" class=\"dataframe\">\n",
       "  <thead>\n",
       "    <tr style=\"text-align: right;\">\n",
       "      <th></th>\n",
       "      <th>target</th>\n",
       "      <th>sms</th>\n",
       "      <th>charecters_count</th>\n",
       "      <th>words_count</th>\n",
       "    </tr>\n",
       "  </thead>\n",
       "  <tbody>\n",
       "    <tr>\n",
       "      <th>3216</th>\n",
       "      <td>0</td>\n",
       "      <td>Come to mahal bus stop.. &amp;lt;DECIMAL&amp;gt;</td>\n",
       "      <td>40</td>\n",
       "      <td>6</td>\n",
       "    </tr>\n",
       "    <tr>\n",
       "      <th>3756</th>\n",
       "      <td>1</td>\n",
       "      <td>YES! The only place in town to meet exciting a...</td>\n",
       "      <td>109</td>\n",
       "      <td>22</td>\n",
       "    </tr>\n",
       "    <tr>\n",
       "      <th>5112</th>\n",
       "      <td>1</td>\n",
       "      <td>December only! Had your mobile 11mths+? You ar...</td>\n",
       "      <td>159</td>\n",
       "      <td>28</td>\n",
       "    </tr>\n",
       "  </tbody>\n",
       "</table>\n",
       "</div>"
      ],
      "text/plain": [
       "      target                                                sms  \\\n",
       "3216       0           Come to mahal bus stop.. &lt;DECIMAL&gt;   \n",
       "3756       1  YES! The only place in town to meet exciting a...   \n",
       "5112       1  December only! Had your mobile 11mths+? You ar...   \n",
       "\n",
       "      charecters_count  words_count  \n",
       "3216                40            6  \n",
       "3756               109           22  \n",
       "5112               159           28  "
      ]
     },
     "execution_count": 58,
     "metadata": {},
     "output_type": "execute_result"
    }
   ],
   "source": [
    "# 2. Words count: NO of words present in the SMS\n",
    "df['words_count'] = df['sms'].apply(lambda x: len(x.split(\" \")))\n",
    "df.sample(3)"
   ]
  },
  {
   "cell_type": "code",
   "execution_count": 59,
   "id": "c96f6ffe",
   "metadata": {},
   "outputs": [],
   "source": [
    "import nltk\n",
    "from nltk.tokenize import sent_tokenize, word_tokenize"
   ]
  },
  {
   "cell_type": "code",
   "execution_count": 60,
   "id": "eb26ea4c",
   "metadata": {},
   "outputs": [
    {
     "data": {
      "text/html": [
       "<div>\n",
       "<style scoped>\n",
       "    .dataframe tbody tr th:only-of-type {\n",
       "        vertical-align: middle;\n",
       "    }\n",
       "\n",
       "    .dataframe tbody tr th {\n",
       "        vertical-align: top;\n",
       "    }\n",
       "\n",
       "    .dataframe thead th {\n",
       "        text-align: right;\n",
       "    }\n",
       "</style>\n",
       "<table border=\"1\" class=\"dataframe\">\n",
       "  <thead>\n",
       "    <tr style=\"text-align: right;\">\n",
       "      <th></th>\n",
       "      <th>target</th>\n",
       "      <th>sms</th>\n",
       "      <th>charecters_count</th>\n",
       "      <th>words_count</th>\n",
       "      <th>sentences_count</th>\n",
       "    </tr>\n",
       "  </thead>\n",
       "  <tbody>\n",
       "    <tr>\n",
       "      <th>514</th>\n",
       "      <td>1</td>\n",
       "      <td>You are guaranteed the latest Nokia Phone, a 4...</td>\n",
       "      <td>148</td>\n",
       "      <td>25</td>\n",
       "      <td>3</td>\n",
       "    </tr>\n",
       "    <tr>\n",
       "      <th>4446</th>\n",
       "      <td>0</td>\n",
       "      <td>Please tell me you have some of that special s...</td>\n",
       "      <td>73</td>\n",
       "      <td>14</td>\n",
       "      <td>1</td>\n",
       "    </tr>\n",
       "    <tr>\n",
       "      <th>3013</th>\n",
       "      <td>0</td>\n",
       "      <td>I might go 2 sch. Yar at e salon now v boring.</td>\n",
       "      <td>46</td>\n",
       "      <td>12</td>\n",
       "      <td>2</td>\n",
       "    </tr>\n",
       "  </tbody>\n",
       "</table>\n",
       "</div>"
      ],
      "text/plain": [
       "      target                                                sms  \\\n",
       "514        1  You are guaranteed the latest Nokia Phone, a 4...   \n",
       "4446       0  Please tell me you have some of that special s...   \n",
       "3013       0     I might go 2 sch. Yar at e salon now v boring.   \n",
       "\n",
       "      charecters_count  words_count  sentences_count  \n",
       "514                148           25                3  \n",
       "4446                73           14                1  \n",
       "3013                46           12                2  "
      ]
     },
     "execution_count": 60,
     "metadata": {},
     "output_type": "execute_result"
    }
   ],
   "source": [
    "# 3. Sentence_count: No of sentences in the message:\n",
    "df['sentences_count'] = df['sms'].apply(lambda x:len(sent_tokenize(x)))\n",
    "df.sample(3)"
   ]
  },
  {
   "cell_type": "markdown",
   "id": "c66eef0b",
   "metadata": {},
   "source": [
    "# Performing EDA\n",
    "To understand the importance of our newly extracted features."
   ]
  },
  {
   "cell_type": "code",
   "execution_count": 61,
   "id": "2d535e1f",
   "metadata": {},
   "outputs": [
    {
     "data": {
      "text/html": [
       "<div>\n",
       "<style scoped>\n",
       "    .dataframe tbody tr th:only-of-type {\n",
       "        vertical-align: middle;\n",
       "    }\n",
       "\n",
       "    .dataframe tbody tr th {\n",
       "        vertical-align: top;\n",
       "    }\n",
       "\n",
       "    .dataframe thead th {\n",
       "        text-align: right;\n",
       "    }\n",
       "</style>\n",
       "<table border=\"1\" class=\"dataframe\">\n",
       "  <thead>\n",
       "    <tr style=\"text-align: right;\">\n",
       "      <th></th>\n",
       "      <th>words_count</th>\n",
       "      <th>sentences_count</th>\n",
       "      <th>charecters_count</th>\n",
       "      <th>target</th>\n",
       "    </tr>\n",
       "  </thead>\n",
       "  <tbody>\n",
       "    <tr>\n",
       "      <th>words_count</th>\n",
       "      <td>1.000000</td>\n",
       "      <td>0.649647</td>\n",
       "      <td>0.974318</td>\n",
       "      <td>0.285458</td>\n",
       "    </tr>\n",
       "    <tr>\n",
       "      <th>sentences_count</th>\n",
       "      <td>0.649647</td>\n",
       "      <td>1.000000</td>\n",
       "      <td>0.646715</td>\n",
       "      <td>0.290500</td>\n",
       "    </tr>\n",
       "    <tr>\n",
       "      <th>charecters_count</th>\n",
       "      <td>0.974318</td>\n",
       "      <td>0.646715</td>\n",
       "      <td>1.000000</td>\n",
       "      <td>0.387285</td>\n",
       "    </tr>\n",
       "    <tr>\n",
       "      <th>target</th>\n",
       "      <td>0.285458</td>\n",
       "      <td>0.290500</td>\n",
       "      <td>0.387285</td>\n",
       "      <td>1.000000</td>\n",
       "    </tr>\n",
       "  </tbody>\n",
       "</table>\n",
       "</div>"
      ],
      "text/plain": [
       "                  words_count  sentences_count  charecters_count    target\n",
       "words_count          1.000000         0.649647          0.974318  0.285458\n",
       "sentences_count      0.649647         1.000000          0.646715  0.290500\n",
       "charecters_count     0.974318         0.646715          1.000000  0.387285\n",
       "target               0.285458         0.290500          0.387285  1.000000"
      ]
     },
     "execution_count": 61,
     "metadata": {},
     "output_type": "execute_result"
    }
   ],
   "source": [
    "df[['words_count','sentences_count','charecters_count','target']].corr()"
   ]
  },
  {
   "cell_type": "markdown",
   "id": "a261dd80",
   "metadata": {},
   "source": [
    "All the three features are having positive correlation with the target variable. charecters_count variable is having high correlation comparing to other variables."
   ]
  },
  {
   "cell_type": "code",
   "execution_count": 62,
   "id": "d6b212ab",
   "metadata": {},
   "outputs": [
    {
     "data": {
      "text/plain": [
       "<AxesSubplot:xlabel='sentences_count', ylabel='Density'>"
      ]
     },
     "execution_count": 62,
     "metadata": {},
     "output_type": "execute_result"
    },
    {
     "data": {
      "image/png": "[encoded data removed]",
      "text/plain": [
       "<Figure size 1440x432 with 3 Axes>"
      ]
     },
     "metadata": {
      "needs_background": "light"
     },
     "output_type": "display_data"
    }
   ],
   "source": [
    "fig, axis = plt.subplots(nrows=1, ncols=3,sharex=False, sharey=False,figsize=(20,6))\n",
    "sb.kdeplot(data=df,x='words_count',hue='target',ax=axis[0])\n",
    "sb.kdeplot(data=df,x='charecters_count',hue='target',ax=axis[1])\n",
    "sb.kdeplot(data=df,x='sentences_count',hue='target',ax=axis[2])"
   ]
  },
  {
   "cell_type": "code",
   "execution_count": 63,
   "id": "c878fec8",
   "metadata": {},
   "outputs": [
    {
     "data": {
      "text/html": [
       "<div>\n",
       "<style scoped>\n",
       "    .dataframe tbody tr th:only-of-type {\n",
       "        vertical-align: middle;\n",
       "    }\n",
       "\n",
       "    .dataframe tbody tr th {\n",
       "        vertical-align: top;\n",
       "    }\n",
       "\n",
       "    .dataframe thead th {\n",
       "        text-align: right;\n",
       "    }\n",
       "</style>\n",
       "<table border=\"1\" class=\"dataframe\">\n",
       "  <thead>\n",
       "    <tr style=\"text-align: right;\">\n",
       "      <th></th>\n",
       "      <th>words_count</th>\n",
       "      <th>sentences_count</th>\n",
       "      <th>charecters_count</th>\n",
       "      <th>target</th>\n",
       "    </tr>\n",
       "  </thead>\n",
       "  <tbody>\n",
       "    <tr>\n",
       "      <th>count</th>\n",
       "      <td>747.000000</td>\n",
       "      <td>747.000000</td>\n",
       "      <td>747.000000</td>\n",
       "      <td>747.0</td>\n",
       "    </tr>\n",
       "    <tr>\n",
       "      <th>mean</th>\n",
       "      <td>23.892905</td>\n",
       "      <td>3.017403</td>\n",
       "      <td>138.866131</td>\n",
       "      <td>1.0</td>\n",
       "    </tr>\n",
       "    <tr>\n",
       "      <th>std</th>\n",
       "      <td>5.826977</td>\n",
       "      <td>1.528449</td>\n",
       "      <td>29.183082</td>\n",
       "      <td>0.0</td>\n",
       "    </tr>\n",
       "    <tr>\n",
       "      <th>min</th>\n",
       "      <td>2.000000</td>\n",
       "      <td>1.000000</td>\n",
       "      <td>13.000000</td>\n",
       "      <td>1.0</td>\n",
       "    </tr>\n",
       "    <tr>\n",
       "      <th>25%</th>\n",
       "      <td>22.000000</td>\n",
       "      <td>2.000000</td>\n",
       "      <td>132.500000</td>\n",
       "      <td>1.0</td>\n",
       "    </tr>\n",
       "    <tr>\n",
       "      <th>50%</th>\n",
       "      <td>25.000000</td>\n",
       "      <td>3.000000</td>\n",
       "      <td>149.000000</td>\n",
       "      <td>1.0</td>\n",
       "    </tr>\n",
       "    <tr>\n",
       "      <th>75%</th>\n",
       "      <td>28.000000</td>\n",
       "      <td>4.000000</td>\n",
       "      <td>157.000000</td>\n",
       "      <td>1.0</td>\n",
       "    </tr>\n",
       "    <tr>\n",
       "      <th>max</th>\n",
       "      <td>35.000000</td>\n",
       "      <td>8.000000</td>\n",
       "      <td>224.000000</td>\n",
       "      <td>1.0</td>\n",
       "    </tr>\n",
       "  </tbody>\n",
       "</table>\n",
       "</div>"
      ],
      "text/plain": [
       "       words_count  sentences_count  charecters_count  target\n",
       "count   747.000000       747.000000        747.000000   747.0\n",
       "mean     23.892905         3.017403        138.866131     1.0\n",
       "std       5.826977         1.528449         29.183082     0.0\n",
       "min       2.000000         1.000000         13.000000     1.0\n",
       "25%      22.000000         2.000000        132.500000     1.0\n",
       "50%      25.000000         3.000000        149.000000     1.0\n",
       "75%      28.000000         4.000000        157.000000     1.0\n",
       "max      35.000000         8.000000        224.000000     1.0"
      ]
     },
     "execution_count": 63,
     "metadata": {},
     "output_type": "execute_result"
    }
   ],
   "source": [
    "df[df['target']==1][['words_count','sentences_count','charecters_count','target']].describe()"
   ]
  },
  {
   "cell_type": "code",
   "execution_count": 64,
   "id": "cca27108",
   "metadata": {},
   "outputs": [
    {
     "data": {
      "text/html": [
       "<div>\n",
       "<style scoped>\n",
       "    .dataframe tbody tr th:only-of-type {\n",
       "        vertical-align: middle;\n",
       "    }\n",
       "\n",
       "    .dataframe tbody tr th {\n",
       "        vertical-align: top;\n",
       "    }\n",
       "\n",
       "    .dataframe thead th {\n",
       "        text-align: right;\n",
       "    }\n",
       "</style>\n",
       "<table border=\"1\" class=\"dataframe\">\n",
       "  <thead>\n",
       "    <tr style=\"text-align: right;\">\n",
       "      <th></th>\n",
       "      <th>words_count</th>\n",
       "      <th>sentences_count</th>\n",
       "      <th>charecters_count</th>\n",
       "      <th>target</th>\n",
       "    </tr>\n",
       "  </thead>\n",
       "  <tbody>\n",
       "    <tr>\n",
       "      <th>count</th>\n",
       "      <td>4825.000000</td>\n",
       "      <td>4825.000000</td>\n",
       "      <td>4825.000000</td>\n",
       "      <td>4825.0</td>\n",
       "    </tr>\n",
       "    <tr>\n",
       "      <th>mean</th>\n",
       "      <td>14.323938</td>\n",
       "      <td>1.808705</td>\n",
       "      <td>71.023627</td>\n",
       "      <td>0.0</td>\n",
       "    </tr>\n",
       "    <tr>\n",
       "      <th>std</th>\n",
       "      <td>11.538966</td>\n",
       "      <td>1.328227</td>\n",
       "      <td>58.016023</td>\n",
       "      <td>0.0</td>\n",
       "    </tr>\n",
       "    <tr>\n",
       "      <th>min</th>\n",
       "      <td>1.000000</td>\n",
       "      <td>1.000000</td>\n",
       "      <td>2.000000</td>\n",
       "      <td>0.0</td>\n",
       "    </tr>\n",
       "    <tr>\n",
       "      <th>25%</th>\n",
       "      <td>7.000000</td>\n",
       "      <td>1.000000</td>\n",
       "      <td>33.000000</td>\n",
       "      <td>0.0</td>\n",
       "    </tr>\n",
       "    <tr>\n",
       "      <th>50%</th>\n",
       "      <td>11.000000</td>\n",
       "      <td>1.000000</td>\n",
       "      <td>52.000000</td>\n",
       "      <td>0.0</td>\n",
       "    </tr>\n",
       "    <tr>\n",
       "      <th>75%</th>\n",
       "      <td>19.000000</td>\n",
       "      <td>2.000000</td>\n",
       "      <td>92.000000</td>\n",
       "      <td>0.0</td>\n",
       "    </tr>\n",
       "    <tr>\n",
       "      <th>max</th>\n",
       "      <td>171.000000</td>\n",
       "      <td>28.000000</td>\n",
       "      <td>910.000000</td>\n",
       "      <td>0.0</td>\n",
       "    </tr>\n",
       "  </tbody>\n",
       "</table>\n",
       "</div>"
      ],
      "text/plain": [
       "       words_count  sentences_count  charecters_count  target\n",
       "count  4825.000000      4825.000000       4825.000000  4825.0\n",
       "mean     14.323938         1.808705         71.023627     0.0\n",
       "std      11.538966         1.328227         58.016023     0.0\n",
       "min       1.000000         1.000000          2.000000     0.0\n",
       "25%       7.000000         1.000000         33.000000     0.0\n",
       "50%      11.000000         1.000000         52.000000     0.0\n",
       "75%      19.000000         2.000000         92.000000     0.0\n",
       "max     171.000000        28.000000        910.000000     0.0"
      ]
     },
     "execution_count": 64,
     "metadata": {},
     "output_type": "execute_result"
    }
   ],
   "source": [
    "df[df['target']==0][['words_count','sentences_count','charecters_count','target']].describe()"
   ]
  },
  {
   "cell_type": "markdown",
   "id": "15110c77",
   "metadata": {},
   "source": [
    "By analysing the above results it is clear that, the average no of words, charecters and sentences in the spam messages are > non spam messages. "
   ]
  },
  {
   "cell_type": "code",
   "execution_count": 65,
   "id": "0150bd60",
   "metadata": {},
   "outputs": [],
   "source": [
    "# SMS text preprocessing:\n",
    "import re\n",
    "from nltk.stem import WordNetLemmatizer, PorterStemmer\n",
    "from nltk.corpus import stopwords\n",
    "import string\n",
    "\n",
    "ps = PorterStemmer()\n",
    "lem = WordNetLemmatizer()\n",
    "stop_words = stopwords.words('english')\n",
    "\n",
    "def preprocess(sms):\n",
    "    # Converting the text to lower case\n",
    "    sms = sms.lower()\n",
    "    sms= word_tokenize(sms)\n",
    "    # Keeping only the alphanumeric part of the text\n",
    "    y = []\n",
    "    for i in sms:\n",
    "        if i.isalnum():\n",
    "            y.append(i)\n",
    "    preprocessed_sms = y[:]\n",
    "    y.clear()\n",
    "    \n",
    "    # Performing stemming after removing the stopwords\n",
    "    for i in preprocessed_sms:\n",
    "        if i not in stop_words and i not in string.punctuation:\n",
    "            y.append(ps.stem(i))\n",
    "    preprocessed_sms = y[:]\n",
    "    y.clear()\n",
    "    return \" \".join(preprocessed_sms)\n",
    "    \n",
    "   \n"
   ]
  },
  {
   "cell_type": "code",
   "execution_count": 66,
   "id": "3631fc65",
   "metadata": {},
   "outputs": [
    {
     "data": {
      "text/html": [
       "<div>\n",
       "<style scoped>\n",
       "    .dataframe tbody tr th:only-of-type {\n",
       "        vertical-align: middle;\n",
       "    }\n",
       "\n",
       "    .dataframe tbody tr th {\n",
       "        vertical-align: top;\n",
       "    }\n",
       "\n",
       "    .dataframe thead th {\n",
       "        text-align: right;\n",
       "    }\n",
       "</style>\n",
       "<table border=\"1\" class=\"dataframe\">\n",
       "  <thead>\n",
       "    <tr style=\"text-align: right;\">\n",
       "      <th></th>\n",
       "      <th>target</th>\n",
       "      <th>sms</th>\n",
       "      <th>charecters_count</th>\n",
       "      <th>words_count</th>\n",
       "      <th>sentences_count</th>\n",
       "      <th>processed_text</th>\n",
       "    </tr>\n",
       "  </thead>\n",
       "  <tbody>\n",
       "    <tr>\n",
       "      <th>5253</th>\n",
       "      <td>0</td>\n",
       "      <td>Please tell me not all of my car keys are in y...</td>\n",
       "      <td>55</td>\n",
       "      <td>13</td>\n",
       "      <td>1</td>\n",
       "      <td>pleas tell car key purs</td>\n",
       "    </tr>\n",
       "    <tr>\n",
       "      <th>179</th>\n",
       "      <td>0</td>\n",
       "      <td>Hi! You just spoke to MANEESHA V. We'd like to...</td>\n",
       "      <td>126</td>\n",
       "      <td>25</td>\n",
       "      <td>3</td>\n",
       "      <td>hi spoke maneesha like know satisfi experi rep...</td>\n",
       "    </tr>\n",
       "    <tr>\n",
       "      <th>4867</th>\n",
       "      <td>0</td>\n",
       "      <td>Watching cartoon, listening music &amp;amp; at eve...</td>\n",
       "      <td>92</td>\n",
       "      <td>16</td>\n",
       "      <td>1</td>\n",
       "      <td>watch cartoon listen music amp eve go templ am...</td>\n",
       "    </tr>\n",
       "  </tbody>\n",
       "</table>\n",
       "</div>"
      ],
      "text/plain": [
       "      target                                                sms  \\\n",
       "5253       0  Please tell me not all of my car keys are in y...   \n",
       "179        0  Hi! You just spoke to MANEESHA V. We'd like to...   \n",
       "4867       0  Watching cartoon, listening music &amp; at eve...   \n",
       "\n",
       "      charecters_count  words_count  sentences_count  \\\n",
       "5253                55           13                1   \n",
       "179                126           25                3   \n",
       "4867                92           16                1   \n",
       "\n",
       "                                         processed_text  \n",
       "5253                            pleas tell car key purs  \n",
       "179   hi spoke maneesha like know satisfi experi rep...  \n",
       "4867  watch cartoon listen music amp eve go templ am...  "
      ]
     },
     "execution_count": 66,
     "metadata": {},
     "output_type": "execute_result"
    }
   ],
   "source": [
    "df['processed_text'] = df['sms'].apply(preprocess)\n",
    "df.sample(3)"
   ]
  },
  {
   "cell_type": "code",
   "execution_count": 67,
   "id": "b4bdbd7d",
   "metadata": {},
   "outputs": [
    {
     "name": "stderr",
     "output_type": "stream",
     "text": [
      "C:\\ProgramData\\Anaconda3\\lib\\site-packages\\seaborn\\_decorators.py:36: FutureWarning: Pass the following variables as keyword args: x, y. From version 0.12, the only valid positional argument will be `data`, and passing other arguments without an explicit keyword will result in an error or misinterpretation.\n",
      "  warnings.warn(\n"
     ]
    },
    {
     "data": {
      "image/png": "[encoded data removed]",
      "text/plain": [
       "<Figure size 1080x432 with 1 Axes>"
      ]
     },
     "metadata": {
      "needs_background": "light"
     },
     "output_type": "display_data"
    }
   ],
   "source": [
    "# Get idea about the frequent words appeared in Spam and Ham messages\n",
    "listed_sentences = df[df['target']==1]['processed_text'].tolist()\n",
    "words = []\n",
    "for sent in listed_sentences:\n",
    "    for word in sent.split(\" \"):\n",
    "        words.append(word)\n",
    "\n",
    "from collections import Counter\n",
    "words_frequency = pd.DataFrame(Counter(words).most_common(20))\n",
    "plt.figure(figsize=(15,6))\n",
    "sb.barplot(words_frequency[0],words_frequency[1])\n",
    "plt.xticks(rotation='vertical')\n",
    "plt.show()"
   ]
  },
  {
   "cell_type": "code",
   "execution_count": 68,
   "id": "ab91db2a",
   "metadata": {},
   "outputs": [
    {
     "name": "stderr",
     "output_type": "stream",
     "text": [
      "C:\\ProgramData\\Anaconda3\\lib\\site-packages\\seaborn\\_decorators.py:36: FutureWarning: Pass the following variables as keyword args: x, y. From version 0.12, the only valid positional argument will be `data`, and passing other arguments without an explicit keyword will result in an error or misinterpretation.\n",
      "  warnings.warn(\n"
     ]
    },
    {
     "data": {
      "image/png": "[encoded data removed]",
      "text/plain": [
       "<Figure size 1080x432 with 1 Axes>"
      ]
     },
     "metadata": {
      "needs_background": "light"
     },
     "output_type": "display_data"
    }
   ],
   "source": [
    "# Get idea about the frequent words appeared in Spam and Ham messages\n",
    "listed_sentences = df[df['target']==0]['processed_text'].tolist()\n",
    "words = []\n",
    "for sent in listed_sentences:\n",
    "    for word in sent.split(\" \"):\n",
    "        words.append(word)\n",
    "\n",
    "from collections import Counter\n",
    "words_frequency = pd.DataFrame(Counter(words).most_common(20))\n",
    "plt.figure(figsize=(15,6))\n",
    "sb.barplot(words_frequency[0],words_frequency[1])\n",
    "plt.xticks(rotation='vertical')\n",
    "plt.show()"
   ]
  },
  {
   "cell_type": "code",
   "execution_count": 69,
   "id": "648f4a04",
   "metadata": {},
   "outputs": [],
   "source": [
    "# Converting all the words into vectors:\n",
    "from sklearn.feature_extraction.text import CountVectorizer, TfidfVectorizer"
   ]
  },
  {
   "cell_type": "code",
   "execution_count": 297,
   "id": "1ec60c16",
   "metadata": {},
   "outputs": [],
   "source": [
    "#cv = CountVectorizer(max_features=2500)\n",
    "cv = TfidfVectorizer(max_features=2500)"
   ]
  },
  {
   "cell_type": "code",
   "execution_count": 298,
   "id": "dec20f3f",
   "metadata": {},
   "outputs": [],
   "source": [
    "df_additional_features = df[['words_count','sentences_count','charecters_count']]"
   ]
  },
  {
   "cell_type": "code",
   "execution_count": 299,
   "id": "3d2beba7",
   "metadata": {},
   "outputs": [],
   "source": [
    "X = df['processed_text']\n",
    "y = df['target']\n"
   ]
  },
  {
   "cell_type": "code",
   "execution_count": 300,
   "id": "2af04134",
   "metadata": {},
   "outputs": [],
   "source": [
    "# Converting words into vectors using BOW technique\n",
    "X = cv.fit_transform(X)\n",
    "X = pd.DataFrame(X.toarray())"
   ]
  },
  {
   "cell_type": "code",
   "execution_count": 301,
   "id": "aae15556",
   "metadata": {},
   "outputs": [
    {
     "data": {
      "text/plain": [
       "(5572, 2503)"
      ]
     },
     "execution_count": 301,
     "metadata": {},
     "output_type": "execute_result"
    }
   ],
   "source": [
    "X = pd.concat([df_additional_features,X],axis=1)\n",
    "X.shape"
   ]
  },
  {
   "cell_type": "code",
   "execution_count": 302,
   "id": "b018ae3f",
   "metadata": {},
   "outputs": [],
   "source": [
    "from sklearn.model_selection import train_test_split\n",
    "from sklearn.model_selection import cross_val_score"
   ]
  },
  {
   "cell_type": "code",
   "execution_count": 303,
   "id": "c3610b51",
   "metadata": {},
   "outputs": [
    {
     "data": {
      "text/plain": [
       "(4457, 2503)"
      ]
     },
     "execution_count": 303,
     "metadata": {},
     "output_type": "execute_result"
    }
   ],
   "source": [
    "# Dividing the train and test splits \n",
    "X.columns = X.columns.astype(str)\n",
    "X_train,X_test, y_train,y_test = train_test_split(X,y,random_state=2,test_size=0.2)\n",
    "X_train.shape"
   ]
  },
  {
   "cell_type": "markdown",
   "id": "51cedb27",
   "metadata": {},
   "source": [
    "# Model Selection"
   ]
  },
  {
   "cell_type": "code",
   "execution_count": 91,
   "id": "5f37da6c",
   "metadata": {},
   "outputs": [],
   "source": [
    "# Imorting all the models \n",
    "\n",
    "from sklearn.ensemble import RandomForestClassifier\n",
    "from sklearn.linear_model import LogisticRegression\n",
    "from sklearn.svm import SVC\n",
    "from sklearn.neighbors import KNeighborsClassifier\n",
    "from xgboost import XGBClassifier\n",
    "from sklearn.naive_bayes import MultinomialNB, GaussianNB, BernoulliNB\n",
    "from sklearn.discriminant_analysis import LinearDiscriminantAnalysis\n",
    "\n",
    "from sklearn.metrics import accuracy_score, precision_score, classification_report"
   ]
  },
  {
   "cell_type": "code",
   "execution_count": 92,
   "id": "9a816e93",
   "metadata": {},
   "outputs": [],
   "source": [
    "RF = RandomForestClassifier()\n",
    "Logistic = LogisticRegression()\n",
    "SVclassifier = SVC()\n",
    "xgb =XGBClassifier()\n",
    "MNB = MultinomialNB()\n",
    "GNB = GaussianNB()\n",
    "BNB = BernoulliNB()\n",
    "LDA= LinearDiscriminantAnalysis()\n"
   ]
  },
  {
   "cell_type": "code",
   "execution_count": 93,
   "id": "f97889fc",
   "metadata": {},
   "outputs": [],
   "source": [
    "models = {\n",
    "    'RF':RF,\n",
    "    'Logistic':Logistic,\n",
    "    \"SVclassifier\": SVclassifier,\n",
    "    'xgb': xgb,\n",
    "    'MNB':MNB,\n",
    "    'GNB':GNB,\n",
    "    'BNB':BNB,\n",
    "    'LDA':LDA\n",
    "    \n",
    "}"
   ]
  },
  {
   "cell_type": "code",
   "execution_count": 80,
   "id": "194333bf",
   "metadata": {},
   "outputs": [
    {
     "name": "stdout",
     "output_type": "stream",
     "text": [
      "['RF', 'Logistic', 'SVclassifier', 'xgb', 'MNB', 'GNB', 'BNB', 'LDA'] [0.9748703818502387, 0.9784592346893592, 0.9207976749241211, 0.9764402911175338, 0.9840700501565884, 0.8683005128370274, 0.9795819210858941, 0.9335884100441989]\n"
     ]
    }
   ],
   "source": [
    "# BOW Results \n",
    "\n",
    "model_accuracies = {}\n",
    "model = []\n",
    "accuracy = []\n",
    "for i in models:\n",
    "    result = cross_val_score(estimator=models[i],X = X_train,y = y_train, n_jobs=-1, cv=4).mean()\n",
    "    model.append(i)\n",
    "    accuracy.append(result)\n",
    "print(model, accuracy)"
   ]
  },
  {
   "cell_type": "code",
   "execution_count": 81,
   "id": "363b1e01",
   "metadata": {},
   "outputs": [
    {
     "data": {
      "text/html": [
       "<div>\n",
       "<style scoped>\n",
       "    .dataframe tbody tr th:only-of-type {\n",
       "        vertical-align: middle;\n",
       "    }\n",
       "\n",
       "    .dataframe tbody tr th {\n",
       "        vertical-align: top;\n",
       "    }\n",
       "\n",
       "    .dataframe thead th {\n",
       "        text-align: right;\n",
       "    }\n",
       "</style>\n",
       "<table border=\"1\" class=\"dataframe\">\n",
       "  <thead>\n",
       "    <tr style=\"text-align: right;\">\n",
       "      <th></th>\n",
       "      <th>model_name</th>\n",
       "      <th>accuracy_bow</th>\n",
       "    </tr>\n",
       "  </thead>\n",
       "  <tbody>\n",
       "    <tr>\n",
       "      <th>0</th>\n",
       "      <td>RF</td>\n",
       "      <td>0.974870</td>\n",
       "    </tr>\n",
       "    <tr>\n",
       "      <th>1</th>\n",
       "      <td>Logistic</td>\n",
       "      <td>0.978459</td>\n",
       "    </tr>\n",
       "    <tr>\n",
       "      <th>2</th>\n",
       "      <td>SVclassifier</td>\n",
       "      <td>0.920798</td>\n",
       "    </tr>\n",
       "    <tr>\n",
       "      <th>3</th>\n",
       "      <td>xgb</td>\n",
       "      <td>0.976440</td>\n",
       "    </tr>\n",
       "    <tr>\n",
       "      <th>4</th>\n",
       "      <td>MNB</td>\n",
       "      <td>0.984070</td>\n",
       "    </tr>\n",
       "    <tr>\n",
       "      <th>5</th>\n",
       "      <td>GNB</td>\n",
       "      <td>0.868301</td>\n",
       "    </tr>\n",
       "    <tr>\n",
       "      <th>6</th>\n",
       "      <td>BNB</td>\n",
       "      <td>0.979582</td>\n",
       "    </tr>\n",
       "    <tr>\n",
       "      <th>7</th>\n",
       "      <td>LDA</td>\n",
       "      <td>0.933588</td>\n",
       "    </tr>\n",
       "  </tbody>\n",
       "</table>\n",
       "</div>"
      ],
      "text/plain": [
       "     model_name  accuracy_bow\n",
       "0            RF      0.974870\n",
       "1      Logistic      0.978459\n",
       "2  SVclassifier      0.920798\n",
       "3           xgb      0.976440\n",
       "4           MNB      0.984070\n",
       "5           GNB      0.868301\n",
       "6           BNB      0.979582\n",
       "7           LDA      0.933588"
      ]
     },
     "execution_count": 81,
     "metadata": {},
     "output_type": "execute_result"
    }
   ],
   "source": [
    "model_accuracies['model_name'] = model\n",
    "model_accuracies['accuracy_bow'] = accuracy\n",
    "accuracy_results = pd.DataFrame(model_accuracies)\n",
    "accuracy_results\n"
   ]
  },
  {
   "cell_type": "code",
   "execution_count": 82,
   "id": "6ced8c0a",
   "metadata": {},
   "outputs": [
    {
     "name": "stderr",
     "output_type": "stream",
     "text": [
      "C:\\Users\\prasa\\AppData\\Roaming\\Python\\Python39\\site-packages\\sklearn\\linear_model\\_logistic.py:460: ConvergenceWarning: lbfgs failed to converge (status=1):\n",
      "STOP: TOTAL NO. of ITERATIONS REACHED LIMIT.\n",
      "\n",
      "Increase the number of iterations (max_iter) or scale the data as shown in:\n",
      "    https://scikit-learn.org/stable/modules/preprocessing.html\n",
      "Please also refer to the documentation for alternative solver options:\n",
      "    https://scikit-learn.org/stable/modules/linear_model.html#logistic-regression\n",
      "  n_iter_i = _check_optimize_result(\n"
     ]
    },
    {
     "name": "stdout",
     "output_type": "stream",
     "text": [
      "['RF', 'Logistic', 'SVclassifier', 'xgb', 'MNB', 'GNB', 'BNB', 'LDA'] [0.9921259842519685, 0.9782608695652174, 0.7692307692307693, 0.9701492537313433, 0.9523809523809523, 0.5057471264367817, 0.9782608695652174, 0.8187919463087249]\n"
     ]
    }
   ],
   "source": [
    "model_precision = {}\n",
    "model_name = []\n",
    "precision = []\n",
    "for model in models:\n",
    "    model_name.append(model)\n",
    "    clf = models[model]\n",
    "    clf.fit(X_train,y_train)\n",
    "    y_predict = clf.predict(X_test)\n",
    "    precision.append(precision_score(y_test,y_predict))\n",
    "print(model_name, precision)"
   ]
  },
  {
   "cell_type": "code",
   "execution_count": 83,
   "id": "67fd66c9",
   "metadata": {},
   "outputs": [
    {
     "data": {
      "text/html": [
       "<div>\n",
       "<style scoped>\n",
       "    .dataframe tbody tr th:only-of-type {\n",
       "        vertical-align: middle;\n",
       "    }\n",
       "\n",
       "    .dataframe tbody tr th {\n",
       "        vertical-align: top;\n",
       "    }\n",
       "\n",
       "    .dataframe thead th {\n",
       "        text-align: right;\n",
       "    }\n",
       "</style>\n",
       "<table border=\"1\" class=\"dataframe\">\n",
       "  <thead>\n",
       "    <tr style=\"text-align: right;\">\n",
       "      <th></th>\n",
       "      <th>model_name</th>\n",
       "      <th>accuracy_bow</th>\n",
       "      <th>precision_bow</th>\n",
       "    </tr>\n",
       "  </thead>\n",
       "  <tbody>\n",
       "    <tr>\n",
       "      <th>0</th>\n",
       "      <td>RF</td>\n",
       "      <td>0.974870</td>\n",
       "      <td>0.992126</td>\n",
       "    </tr>\n",
       "    <tr>\n",
       "      <th>1</th>\n",
       "      <td>Logistic</td>\n",
       "      <td>0.978459</td>\n",
       "      <td>0.978261</td>\n",
       "    </tr>\n",
       "    <tr>\n",
       "      <th>2</th>\n",
       "      <td>SVclassifier</td>\n",
       "      <td>0.920798</td>\n",
       "      <td>0.769231</td>\n",
       "    </tr>\n",
       "    <tr>\n",
       "      <th>3</th>\n",
       "      <td>xgb</td>\n",
       "      <td>0.976440</td>\n",
       "      <td>0.970149</td>\n",
       "    </tr>\n",
       "    <tr>\n",
       "      <th>4</th>\n",
       "      <td>MNB</td>\n",
       "      <td>0.984070</td>\n",
       "      <td>0.952381</td>\n",
       "    </tr>\n",
       "    <tr>\n",
       "      <th>5</th>\n",
       "      <td>GNB</td>\n",
       "      <td>0.868301</td>\n",
       "      <td>0.505747</td>\n",
       "    </tr>\n",
       "    <tr>\n",
       "      <th>6</th>\n",
       "      <td>BNB</td>\n",
       "      <td>0.979582</td>\n",
       "      <td>0.978261</td>\n",
       "    </tr>\n",
       "    <tr>\n",
       "      <th>7</th>\n",
       "      <td>LDA</td>\n",
       "      <td>0.933588</td>\n",
       "      <td>0.818792</td>\n",
       "    </tr>\n",
       "  </tbody>\n",
       "</table>\n",
       "</div>"
      ],
      "text/plain": [
       "     model_name  accuracy_bow  precision_bow\n",
       "0            RF      0.974870       0.992126\n",
       "1      Logistic      0.978459       0.978261\n",
       "2  SVclassifier      0.920798       0.769231\n",
       "3           xgb      0.976440       0.970149\n",
       "4           MNB      0.984070       0.952381\n",
       "5           GNB      0.868301       0.505747\n",
       "6           BNB      0.979582       0.978261\n",
       "7           LDA      0.933588       0.818792"
      ]
     },
     "execution_count": 83,
     "metadata": {},
     "output_type": "execute_result"
    }
   ],
   "source": [
    "\n",
    "model_precision['model_name'] = model_name\n",
    "model_precision['precision_bow'] = precision\n",
    "accuracy_results['precision_bow'] = model_precision['precision_bow']\n",
    "accuracy_results"
   ]
  },
  {
   "cell_type": "code",
   "execution_count": 94,
   "id": "29ddc745",
   "metadata": {},
   "outputs": [
    {
     "name": "stdout",
     "output_type": "stream",
     "text": [
      "['RF', 'Logistic', 'SVclassifier', 'xgb', 'MNB', 'GNB', 'BNB', 'LDA'] [0.9764410961992095, 0.96297791660964, 0.9151886708906618, 0.9771129368574442, 0.9465997375433738, 0.8862498087931021, 0.9795819210858941, 0.9378531289499319]\n"
     ]
    },
    {
     "name": "stderr",
     "output_type": "stream",
     "text": [
      "C:\\Users\\prasa\\AppData\\Roaming\\Python\\Python39\\site-packages\\sklearn\\linear_model\\_logistic.py:460: ConvergenceWarning: lbfgs failed to converge (status=1):\n",
      "STOP: TOTAL NO. of ITERATIONS REACHED LIMIT.\n",
      "\n",
      "Increase the number of iterations (max_iter) or scale the data as shown in:\n",
      "    https://scikit-learn.org/stable/modules/preprocessing.html\n",
      "Please also refer to the documentation for alternative solver options:\n",
      "    https://scikit-learn.org/stable/modules/linear_model.html#logistic-regression\n",
      "  n_iter_i = _check_optimize_result(\n"
     ]
    },
    {
     "name": "stdout",
     "output_type": "stream",
     "text": [
      "['RF', 'Logistic', 'SVclassifier', 'xgb', 'MNB', 'GNB', 'BNB', 'LDA'] [0.9921259842519685, 0.9448818897637795, 0.7631578947368421, 0.9632352941176471, 0.990909090909091, 0.5450643776824035, 0.9782608695652174, 0.8129032258064516]\n"
     ]
    },
    {
     "data": {
      "text/html": [
       "<div>\n",
       "<style scoped>\n",
       "    .dataframe tbody tr th:only-of-type {\n",
       "        vertical-align: middle;\n",
       "    }\n",
       "\n",
       "    .dataframe tbody tr th {\n",
       "        vertical-align: top;\n",
       "    }\n",
       "\n",
       "    .dataframe thead th {\n",
       "        text-align: right;\n",
       "    }\n",
       "</style>\n",
       "<table border=\"1\" class=\"dataframe\">\n",
       "  <thead>\n",
       "    <tr style=\"text-align: right;\">\n",
       "      <th></th>\n",
       "      <th>model_name</th>\n",
       "      <th>accuracy_bow</th>\n",
       "      <th>precision_bow</th>\n",
       "      <th>precision_tf</th>\n",
       "    </tr>\n",
       "  </thead>\n",
       "  <tbody>\n",
       "    <tr>\n",
       "      <th>0</th>\n",
       "      <td>RF</td>\n",
       "      <td>0.974870</td>\n",
       "      <td>0.992126</td>\n",
       "      <td>0.992126</td>\n",
       "    </tr>\n",
       "    <tr>\n",
       "      <th>1</th>\n",
       "      <td>Logistic</td>\n",
       "      <td>0.978459</td>\n",
       "      <td>0.978261</td>\n",
       "      <td>0.944882</td>\n",
       "    </tr>\n",
       "    <tr>\n",
       "      <th>2</th>\n",
       "      <td>SVclassifier</td>\n",
       "      <td>0.920798</td>\n",
       "      <td>0.769231</td>\n",
       "      <td>0.763158</td>\n",
       "    </tr>\n",
       "    <tr>\n",
       "      <th>3</th>\n",
       "      <td>xgb</td>\n",
       "      <td>0.976440</td>\n",
       "      <td>0.970149</td>\n",
       "      <td>0.963235</td>\n",
       "    </tr>\n",
       "    <tr>\n",
       "      <th>4</th>\n",
       "      <td>MNB</td>\n",
       "      <td>0.984070</td>\n",
       "      <td>0.952381</td>\n",
       "      <td>0.990909</td>\n",
       "    </tr>\n",
       "    <tr>\n",
       "      <th>5</th>\n",
       "      <td>GNB</td>\n",
       "      <td>0.868301</td>\n",
       "      <td>0.505747</td>\n",
       "      <td>0.545064</td>\n",
       "    </tr>\n",
       "    <tr>\n",
       "      <th>6</th>\n",
       "      <td>BNB</td>\n",
       "      <td>0.979582</td>\n",
       "      <td>0.978261</td>\n",
       "      <td>0.978261</td>\n",
       "    </tr>\n",
       "    <tr>\n",
       "      <th>7</th>\n",
       "      <td>LDA</td>\n",
       "      <td>0.933588</td>\n",
       "      <td>0.818792</td>\n",
       "      <td>0.812903</td>\n",
       "    </tr>\n",
       "  </tbody>\n",
       "</table>\n",
       "</div>"
      ],
      "text/plain": [
       "     model_name  accuracy_bow  precision_bow  precision_tf\n",
       "0            RF      0.974870       0.992126      0.992126\n",
       "1      Logistic      0.978459       0.978261      0.944882\n",
       "2  SVclassifier      0.920798       0.769231      0.763158\n",
       "3           xgb      0.976440       0.970149      0.963235\n",
       "4           MNB      0.984070       0.952381      0.990909\n",
       "5           GNB      0.868301       0.505747      0.545064\n",
       "6           BNB      0.979582       0.978261      0.978261\n",
       "7           LDA      0.933588       0.818792      0.812903"
      ]
     },
     "execution_count": 94,
     "metadata": {},
     "output_type": "execute_result"
    }
   ],
   "source": [
    "# Results after implementing TF-IDF vectorizer \n",
    "\n",
    "model_accuracies = {}\n",
    "model = []\n",
    "accuracy = []\n",
    "for i in models:\n",
    "    result = cross_val_score(estimator=models[i],X = X_train,y = y_train, n_jobs=-1, cv=4).mean()\n",
    "    model.append(i)\n",
    "    accuracy.append(result)\n",
    "print(model, accuracy)\n",
    "\n",
    "\n",
    "\n",
    "model_accuracies['accuracy_tfidf'] = accuracy\n",
    "\n",
    "\n",
    "\n",
    "model_precision = {}\n",
    "model_name = []\n",
    "precision = []\n",
    "for model in models:\n",
    "    model_name.append(model)\n",
    "    clf = models[model]\n",
    "    clf.fit(X_train,y_train)\n",
    "    y_predict = clf.predict(X_test)\n",
    "    precision.append(precision_score(y_test,y_predict))\n",
    "print(model_name, precision)\n",
    "\n",
    "\n",
    "model_precision['model_name'] = model_name\n",
    "model_precision['precision_tfidf'] = precision\n",
    "accuracy_results['precision_tf'] = model_precision['precision_tfidf']\n",
    "accuracy_results"
   ]
  },
  {
   "cell_type": "code",
   "execution_count": 95,
   "id": "8bc87ba8",
   "metadata": {},
   "outputs": [
    {
     "data": {
      "text/html": [
       "<div>\n",
       "<style scoped>\n",
       "    .dataframe tbody tr th:only-of-type {\n",
       "        vertical-align: middle;\n",
       "    }\n",
       "\n",
       "    .dataframe tbody tr th {\n",
       "        vertical-align: top;\n",
       "    }\n",
       "\n",
       "    .dataframe thead th {\n",
       "        text-align: right;\n",
       "    }\n",
       "</style>\n",
       "<table border=\"1\" class=\"dataframe\">\n",
       "  <thead>\n",
       "    <tr style=\"text-align: right;\">\n",
       "      <th></th>\n",
       "      <th>model_name</th>\n",
       "      <th>accuracy_bow</th>\n",
       "      <th>precision_bow</th>\n",
       "      <th>precision_tf</th>\n",
       "      <th>accuracy_tfidf</th>\n",
       "    </tr>\n",
       "  </thead>\n",
       "  <tbody>\n",
       "    <tr>\n",
       "      <th>0</th>\n",
       "      <td>RF</td>\n",
       "      <td>0.974870</td>\n",
       "      <td>0.992126</td>\n",
       "      <td>0.992126</td>\n",
       "      <td>0.976441</td>\n",
       "    </tr>\n",
       "    <tr>\n",
       "      <th>1</th>\n",
       "      <td>Logistic</td>\n",
       "      <td>0.978459</td>\n",
       "      <td>0.978261</td>\n",
       "      <td>0.944882</td>\n",
       "      <td>0.962978</td>\n",
       "    </tr>\n",
       "    <tr>\n",
       "      <th>2</th>\n",
       "      <td>SVclassifier</td>\n",
       "      <td>0.920798</td>\n",
       "      <td>0.769231</td>\n",
       "      <td>0.763158</td>\n",
       "      <td>0.915189</td>\n",
       "    </tr>\n",
       "    <tr>\n",
       "      <th>3</th>\n",
       "      <td>xgb</td>\n",
       "      <td>0.976440</td>\n",
       "      <td>0.970149</td>\n",
       "      <td>0.963235</td>\n",
       "      <td>0.977113</td>\n",
       "    </tr>\n",
       "    <tr>\n",
       "      <th>4</th>\n",
       "      <td>MNB</td>\n",
       "      <td>0.984070</td>\n",
       "      <td>0.952381</td>\n",
       "      <td>0.990909</td>\n",
       "      <td>0.946600</td>\n",
       "    </tr>\n",
       "    <tr>\n",
       "      <th>5</th>\n",
       "      <td>GNB</td>\n",
       "      <td>0.868301</td>\n",
       "      <td>0.505747</td>\n",
       "      <td>0.545064</td>\n",
       "      <td>0.886250</td>\n",
       "    </tr>\n",
       "    <tr>\n",
       "      <th>6</th>\n",
       "      <td>BNB</td>\n",
       "      <td>0.979582</td>\n",
       "      <td>0.978261</td>\n",
       "      <td>0.978261</td>\n",
       "      <td>0.979582</td>\n",
       "    </tr>\n",
       "    <tr>\n",
       "      <th>7</th>\n",
       "      <td>LDA</td>\n",
       "      <td>0.933588</td>\n",
       "      <td>0.818792</td>\n",
       "      <td>0.812903</td>\n",
       "      <td>0.937853</td>\n",
       "    </tr>\n",
       "  </tbody>\n",
       "</table>\n",
       "</div>"
      ],
      "text/plain": [
       "     model_name  accuracy_bow  precision_bow  precision_tf  accuracy_tfidf\n",
       "0            RF      0.974870       0.992126      0.992126        0.976441\n",
       "1      Logistic      0.978459       0.978261      0.944882        0.962978\n",
       "2  SVclassifier      0.920798       0.769231      0.763158        0.915189\n",
       "3           xgb      0.976440       0.970149      0.963235        0.977113\n",
       "4           MNB      0.984070       0.952381      0.990909        0.946600\n",
       "5           GNB      0.868301       0.505747      0.545064        0.886250\n",
       "6           BNB      0.979582       0.978261      0.978261        0.979582\n",
       "7           LDA      0.933588       0.818792      0.812903        0.937853"
      ]
     },
     "execution_count": 95,
     "metadata": {},
     "output_type": "execute_result"
    }
   ],
   "source": [
    "accuracy_results['accuracy_tfidf'] = accuracy\n",
    "accuracy_results"
   ]
  },
  {
   "cell_type": "markdown",
   "id": "62209d20",
   "metadata": {},
   "source": [
    "Random forest model is performing better in terms of precision. Let's perform hyperparameter tunning on the RF classifier."
   ]
  },
  {
   "cell_type": "markdown",
   "id": "6e3c58b0",
   "metadata": {},
   "source": [
    "# Hyper parameter tuning of the model"
   ]
  },
  {
   "cell_type": "code",
   "execution_count": 114,
   "id": "a1fefb9f",
   "metadata": {},
   "outputs": [],
   "source": [
    "from sklearn.model_selection import RandomizedSearchCV"
   ]
  },
  {
   "cell_type": "code",
   "execution_count": null,
   "id": "8e6c35e3",
   "metadata": {},
   "outputs": [],
   "source": [
    "RandomForestClassifier()"
   ]
  },
  {
   "cell_type": "code",
   "execution_count": 115,
   "id": "9c36a382",
   "metadata": {},
   "outputs": [],
   "source": [
    "grid = {\n",
    "    'n_estimators':[60,70,80,90,100,110,120,130,150],\n",
    "    \"min_samples_split\": [2,3,4,5,6,7,8,9,10],\n",
    "    \"max_features\": ['sqrt','log2'],\n",
    "    \"criterion\": ['gini','entropy','log_loss']\n",
    "    \n",
    "    \n",
    "}"
   ]
  },
  {
   "cell_type": "code",
   "execution_count": 116,
   "id": "49fef8d6",
   "metadata": {},
   "outputs": [],
   "source": [
    "RS = RandomizedSearchCV(estimator=RF, param_distributions=grid,cv =4, random_state=23, return_train_score=True,n_jobs=-1)"
   ]
  },
  {
   "cell_type": "code",
   "execution_count": 117,
   "id": "4d3cc578",
   "metadata": {},
   "outputs": [
    {
     "data": {
      "text/html": [
       "<style>#sk-container-id-1 {color: black;}#sk-container-id-1 pre{padding: 0;}#sk-container-id-1 div.sk-toggleable {background-color: white;}#sk-container-id-1 label.sk-toggleable__label {cursor: pointer;display: block;width: 100%;margin-bottom: 0;padding: 0.3em;box-sizing: border-box;text-align: center;}#sk-container-id-1 label.sk-toggleable__label-arrow:before {content: \"▸\";float: left;margin-right: 0.25em;color: #696969;}#sk-container-id-1 label.sk-toggleable__label-arrow:hover:before {color: black;}#sk-container-id-1 div.sk-estimator:hover label.sk-toggleable__label-arrow:before {color: black;}#sk-container-id-1 div.sk-toggleable__content {max-height: 0;max-width: 0;overflow: hidden;text-align: left;background-color: #f0f8ff;}#sk-container-id-1 div.sk-toggleable__content pre {margin: 0.2em;color: black;border-radius: 0.25em;background-color: #f0f8ff;}#sk-container-id-1 input.sk-toggleable__control:checked~div.sk-toggleable__content {max-height: 200px;max-width: 100%;overflow: auto;}#sk-container-id-1 input.sk-toggleable__control:checked~label.sk-toggleable__label-arrow:before {content: \"▾\";}#sk-container-id-1 div.sk-estimator input.sk-toggleable__control:checked~label.sk-toggleable__label {background-color: #d4ebff;}#sk-container-id-1 div.sk-label input.sk-toggleable__control:checked~label.sk-toggleable__label {background-color: #d4ebff;}#sk-container-id-1 input.sk-hidden--visually {border: 0;clip: rect(1px 1px 1px 1px);clip: rect(1px, 1px, 1px, 1px);height: 1px;margin: -1px;overflow: hidden;padding: 0;position: absolute;width: 1px;}#sk-container-id-1 div.sk-estimator {font-family: monospace;background-color: #f0f8ff;border: 1px dotted black;border-radius: 0.25em;box-sizing: border-box;margin-bottom: 0.5em;}#sk-container-id-1 div.sk-estimator:hover {background-color: #d4ebff;}#sk-container-id-1 div.sk-parallel-item::after {content: \"\";width: 100%;border-bottom: 1px solid gray;flex-grow: 1;}#sk-container-id-1 div.sk-label:hover label.sk-toggleable__label {background-color: #d4ebff;}#sk-container-id-1 div.sk-serial::before {content: \"\";position: absolute;border-left: 1px solid gray;box-sizing: border-box;top: 0;bottom: 0;left: 50%;z-index: 0;}#sk-container-id-1 div.sk-serial {display: flex;flex-direction: column;align-items: center;background-color: white;padding-right: 0.2em;padding-left: 0.2em;position: relative;}#sk-container-id-1 div.sk-item {position: relative;z-index: 1;}#sk-container-id-1 div.sk-parallel {display: flex;align-items: stretch;justify-content: center;background-color: white;position: relative;}#sk-container-id-1 div.sk-item::before, #sk-container-id-1 div.sk-parallel-item::before {content: \"\";position: absolute;border-left: 1px solid gray;box-sizing: border-box;top: 0;bottom: 0;left: 50%;z-index: -1;}#sk-container-id-1 div.sk-parallel-item {display: flex;flex-direction: column;z-index: 1;position: relative;background-color: white;}#sk-container-id-1 div.sk-parallel-item:first-child::after {align-self: flex-end;width: 50%;}#sk-container-id-1 div.sk-parallel-item:last-child::after {align-self: flex-start;width: 50%;}#sk-container-id-1 div.sk-parallel-item:only-child::after {width: 0;}#sk-container-id-1 div.sk-dashed-wrapped {border: 1px dashed gray;margin: 0 0.4em 0.5em 0.4em;box-sizing: border-box;padding-bottom: 0.4em;background-color: white;}#sk-container-id-1 div.sk-label label {font-family: monospace;font-weight: bold;display: inline-block;line-height: 1.2em;}#sk-container-id-1 div.sk-label-container {text-align: center;}#sk-container-id-1 div.sk-container {/* jupyter's `normalize.less` sets `[hidden] { display: none; }` but bootstrap.min.css set `[hidden] { display: none !important; }` so we also need the `!important` here to be able to override the default hidden behavior on the sphinx rendered scikit-learn.org. See: https://github.com/scikit-learn/scikit-learn/issues/21755 */display: inline-block !important;position: relative;}#sk-container-id-1 div.sk-text-repr-fallback {display: none;}</style><div id=\"sk-container-id-1\" class=\"sk-top-container\"><div class=\"sk-text-repr-fallback\"><pre>RandomizedSearchCV(cv=4, estimator=RandomForestClassifier(), n_jobs=-1,\n",
       "                   param_distributions={&#x27;criterion&#x27;: [&#x27;gini&#x27;, &#x27;entropy&#x27;,\n",
       "                                                      &#x27;log_loss&#x27;],\n",
       "                                        &#x27;max_features&#x27;: [&#x27;sqrt&#x27;, &#x27;log2&#x27;],\n",
       "                                        &#x27;min_samples_split&#x27;: [2, 3, 4, 5, 6, 7,\n",
       "                                                              8, 9, 10],\n",
       "                                        &#x27;n_estimators&#x27;: [60, 70, 80, 90, 100,\n",
       "                                                         110, 120, 130, 150]},\n",
       "                   random_state=23, return_train_score=True)</pre><b>In a Jupyter environment, please rerun this cell to show the HTML representation or trust the notebook. <br />On GitHub, the HTML representation is unable to render, please try loading this page with nbviewer.org.</b></div><div class=\"sk-container\" hidden><div class=\"sk-item sk-dashed-wrapped\"><div class=\"sk-label-container\"><div class=\"sk-label sk-toggleable\"><input class=\"sk-toggleable__control sk-hidden--visually\" id=\"sk-estimator-id-1\" type=\"checkbox\" ><label for=\"sk-estimator-id-1\" class=\"sk-toggleable__label sk-toggleable__label-arrow\">RandomizedSearchCV</label><div class=\"sk-toggleable__content\"><pre>RandomizedSearchCV(cv=4, estimator=RandomForestClassifier(), n_jobs=-1,\n",
       "                   param_distributions={&#x27;criterion&#x27;: [&#x27;gini&#x27;, &#x27;entropy&#x27;,\n",
       "                                                      &#x27;log_loss&#x27;],\n",
       "                                        &#x27;max_features&#x27;: [&#x27;sqrt&#x27;, &#x27;log2&#x27;],\n",
       "                                        &#x27;min_samples_split&#x27;: [2, 3, 4, 5, 6, 7,\n",
       "                                                              8, 9, 10],\n",
       "                                        &#x27;n_estimators&#x27;: [60, 70, 80, 90, 100,\n",
       "                                                         110, 120, 130, 150]},\n",
       "                   random_state=23, return_train_score=True)</pre></div></div></div><div class=\"sk-parallel\"><div class=\"sk-parallel-item\"><div class=\"sk-item\"><div class=\"sk-label-container\"><div class=\"sk-label sk-toggleable\"><input class=\"sk-toggleable__control sk-hidden--visually\" id=\"sk-estimator-id-2\" type=\"checkbox\" ><label for=\"sk-estimator-id-2\" class=\"sk-toggleable__label sk-toggleable__label-arrow\">estimator: RandomForestClassifier</label><div class=\"sk-toggleable__content\"><pre>RandomForestClassifier()</pre></div></div></div><div class=\"sk-serial\"><div class=\"sk-item\"><div class=\"sk-estimator sk-toggleable\"><input class=\"sk-toggleable__control sk-hidden--visually\" id=\"sk-estimator-id-3\" type=\"checkbox\" ><label for=\"sk-estimator-id-3\" class=\"sk-toggleable__label sk-toggleable__label-arrow\">RandomForestClassifier</label><div class=\"sk-toggleable__content\"><pre>RandomForestClassifier()</pre></div></div></div></div></div></div></div></div></div></div>"
      ],
      "text/plain": [
       "RandomizedSearchCV(cv=4, estimator=RandomForestClassifier(), n_jobs=-1,\n",
       "                   param_distributions={'criterion': ['gini', 'entropy',\n",
       "                                                      'log_loss'],\n",
       "                                        'max_features': ['sqrt', 'log2'],\n",
       "                                        'min_samples_split': [2, 3, 4, 5, 6, 7,\n",
       "                                                              8, 9, 10],\n",
       "                                        'n_estimators': [60, 70, 80, 90, 100,\n",
       "                                                         110, 120, 130, 150]},\n",
       "                   random_state=23, return_train_score=True)"
      ]
     },
     "execution_count": 117,
     "metadata": {},
     "output_type": "execute_result"
    }
   ],
   "source": [
    "RS.fit(X= X_train,y=y_train)"
   ]
  },
  {
   "cell_type": "code",
   "execution_count": 118,
   "id": "c0752bdd",
   "metadata": {},
   "outputs": [
    {
     "data": {
      "text/html": [
       "<style>#sk-container-id-2 {color: black;}#sk-container-id-2 pre{padding: 0;}#sk-container-id-2 div.sk-toggleable {background-color: white;}#sk-container-id-2 label.sk-toggleable__label {cursor: pointer;display: block;width: 100%;margin-bottom: 0;padding: 0.3em;box-sizing: border-box;text-align: center;}#sk-container-id-2 label.sk-toggleable__label-arrow:before {content: \"▸\";float: left;margin-right: 0.25em;color: #696969;}#sk-container-id-2 label.sk-toggleable__label-arrow:hover:before {color: black;}#sk-container-id-2 div.sk-estimator:hover label.sk-toggleable__label-arrow:before {color: black;}#sk-container-id-2 div.sk-toggleable__content {max-height: 0;max-width: 0;overflow: hidden;text-align: left;background-color: #f0f8ff;}#sk-container-id-2 div.sk-toggleable__content pre {margin: 0.2em;color: black;border-radius: 0.25em;background-color: #f0f8ff;}#sk-container-id-2 input.sk-toggleable__control:checked~div.sk-toggleable__content {max-height: 200px;max-width: 100%;overflow: auto;}#sk-container-id-2 input.sk-toggleable__control:checked~label.sk-toggleable__label-arrow:before {content: \"▾\";}#sk-container-id-2 div.sk-estimator input.sk-toggleable__control:checked~label.sk-toggleable__label {background-color: #d4ebff;}#sk-container-id-2 div.sk-label input.sk-toggleable__control:checked~label.sk-toggleable__label {background-color: #d4ebff;}#sk-container-id-2 input.sk-hidden--visually {border: 0;clip: rect(1px 1px 1px 1px);clip: rect(1px, 1px, 1px, 1px);height: 1px;margin: -1px;overflow: hidden;padding: 0;position: absolute;width: 1px;}#sk-container-id-2 div.sk-estimator {font-family: monospace;background-color: #f0f8ff;border: 1px dotted black;border-radius: 0.25em;box-sizing: border-box;margin-bottom: 0.5em;}#sk-container-id-2 div.sk-estimator:hover {background-color: #d4ebff;}#sk-container-id-2 div.sk-parallel-item::after {content: \"\";width: 100%;border-bottom: 1px solid gray;flex-grow: 1;}#sk-container-id-2 div.sk-label:hover label.sk-toggleable__label {background-color: #d4ebff;}#sk-container-id-2 div.sk-serial::before {content: \"\";position: absolute;border-left: 1px solid gray;box-sizing: border-box;top: 0;bottom: 0;left: 50%;z-index: 0;}#sk-container-id-2 div.sk-serial {display: flex;flex-direction: column;align-items: center;background-color: white;padding-right: 0.2em;padding-left: 0.2em;position: relative;}#sk-container-id-2 div.sk-item {position: relative;z-index: 1;}#sk-container-id-2 div.sk-parallel {display: flex;align-items: stretch;justify-content: center;background-color: white;position: relative;}#sk-container-id-2 div.sk-item::before, #sk-container-id-2 div.sk-parallel-item::before {content: \"\";position: absolute;border-left: 1px solid gray;box-sizing: border-box;top: 0;bottom: 0;left: 50%;z-index: -1;}#sk-container-id-2 div.sk-parallel-item {display: flex;flex-direction: column;z-index: 1;position: relative;background-color: white;}#sk-container-id-2 div.sk-parallel-item:first-child::after {align-self: flex-end;width: 50%;}#sk-container-id-2 div.sk-parallel-item:last-child::after {align-self: flex-start;width: 50%;}#sk-container-id-2 div.sk-parallel-item:only-child::after {width: 0;}#sk-container-id-2 div.sk-dashed-wrapped {border: 1px dashed gray;margin: 0 0.4em 0.5em 0.4em;box-sizing: border-box;padding-bottom: 0.4em;background-color: white;}#sk-container-id-2 div.sk-label label {font-family: monospace;font-weight: bold;display: inline-block;line-height: 1.2em;}#sk-container-id-2 div.sk-label-container {text-align: center;}#sk-container-id-2 div.sk-container {/* jupyter's `normalize.less` sets `[hidden] { display: none; }` but bootstrap.min.css set `[hidden] { display: none !important; }` so we also need the `!important` here to be able to override the default hidden behavior on the sphinx rendered scikit-learn.org. See: https://github.com/scikit-learn/scikit-learn/issues/21755 */display: inline-block !important;position: relative;}#sk-container-id-2 div.sk-text-repr-fallback {display: none;}</style><div id=\"sk-container-id-2\" class=\"sk-top-container\"><div class=\"sk-text-repr-fallback\"><pre>RandomForestClassifier(criterion=&#x27;log_loss&#x27;, max_features=&#x27;log2&#x27;,\n",
       "                       min_samples_split=4, n_estimators=110)</pre><b>In a Jupyter environment, please rerun this cell to show the HTML representation or trust the notebook. <br />On GitHub, the HTML representation is unable to render, please try loading this page with nbviewer.org.</b></div><div class=\"sk-container\" hidden><div class=\"sk-item\"><div class=\"sk-estimator sk-toggleable\"><input class=\"sk-toggleable__control sk-hidden--visually\" id=\"sk-estimator-id-4\" type=\"checkbox\" checked><label for=\"sk-estimator-id-4\" class=\"sk-toggleable__label sk-toggleable__label-arrow\">RandomForestClassifier</label><div class=\"sk-toggleable__content\"><pre>RandomForestClassifier(criterion=&#x27;log_loss&#x27;, max_features=&#x27;log2&#x27;,\n",
       "                       min_samples_split=4, n_estimators=110)</pre></div></div></div></div></div>"
      ],
      "text/plain": [
       "RandomForestClassifier(criterion='log_loss', max_features='log2',\n",
       "                       min_samples_split=4, n_estimators=110)"
      ]
     },
     "execution_count": 118,
     "metadata": {},
     "output_type": "execute_result"
    }
   ],
   "source": [
    "RS.best_estimator_"
   ]
  },
  {
   "cell_type": "code",
   "execution_count": 151,
   "id": "1a027f41",
   "metadata": {},
   "outputs": [
    {
     "data": {
      "text/html": [
       "<style>#sk-container-id-3 {color: black;}#sk-container-id-3 pre{padding: 0;}#sk-container-id-3 div.sk-toggleable {background-color: white;}#sk-container-id-3 label.sk-toggleable__label {cursor: pointer;display: block;width: 100%;margin-bottom: 0;padding: 0.3em;box-sizing: border-box;text-align: center;}#sk-container-id-3 label.sk-toggleable__label-arrow:before {content: \"▸\";float: left;margin-right: 0.25em;color: #696969;}#sk-container-id-3 label.sk-toggleable__label-arrow:hover:before {color: black;}#sk-container-id-3 div.sk-estimator:hover label.sk-toggleable__label-arrow:before {color: black;}#sk-container-id-3 div.sk-toggleable__content {max-height: 0;max-width: 0;overflow: hidden;text-align: left;background-color: #f0f8ff;}#sk-container-id-3 div.sk-toggleable__content pre {margin: 0.2em;color: black;border-radius: 0.25em;background-color: #f0f8ff;}#sk-container-id-3 input.sk-toggleable__control:checked~div.sk-toggleable__content {max-height: 200px;max-width: 100%;overflow: auto;}#sk-container-id-3 input.sk-toggleable__control:checked~label.sk-toggleable__label-arrow:before {content: \"▾\";}#sk-container-id-3 div.sk-estimator input.sk-toggleable__control:checked~label.sk-toggleable__label {background-color: #d4ebff;}#sk-container-id-3 div.sk-label input.sk-toggleable__control:checked~label.sk-toggleable__label {background-color: #d4ebff;}#sk-container-id-3 input.sk-hidden--visually {border: 0;clip: rect(1px 1px 1px 1px);clip: rect(1px, 1px, 1px, 1px);height: 1px;margin: -1px;overflow: hidden;padding: 0;position: absolute;width: 1px;}#sk-container-id-3 div.sk-estimator {font-family: monospace;background-color: #f0f8ff;border: 1px dotted black;border-radius: 0.25em;box-sizing: border-box;margin-bottom: 0.5em;}#sk-container-id-3 div.sk-estimator:hover {background-color: #d4ebff;}#sk-container-id-3 div.sk-parallel-item::after {content: \"\";width: 100%;border-bottom: 1px solid gray;flex-grow: 1;}#sk-container-id-3 div.sk-label:hover label.sk-toggleable__label {background-color: #d4ebff;}#sk-container-id-3 div.sk-serial::before {content: \"\";position: absolute;border-left: 1px solid gray;box-sizing: border-box;top: 0;bottom: 0;left: 50%;z-index: 0;}#sk-container-id-3 div.sk-serial {display: flex;flex-direction: column;align-items: center;background-color: white;padding-right: 0.2em;padding-left: 0.2em;position: relative;}#sk-container-id-3 div.sk-item {position: relative;z-index: 1;}#sk-container-id-3 div.sk-parallel {display: flex;align-items: stretch;justify-content: center;background-color: white;position: relative;}#sk-container-id-3 div.sk-item::before, #sk-container-id-3 div.sk-parallel-item::before {content: \"\";position: absolute;border-left: 1px solid gray;box-sizing: border-box;top: 0;bottom: 0;left: 50%;z-index: -1;}#sk-container-id-3 div.sk-parallel-item {display: flex;flex-direction: column;z-index: 1;position: relative;background-color: white;}#sk-container-id-3 div.sk-parallel-item:first-child::after {align-self: flex-end;width: 50%;}#sk-container-id-3 div.sk-parallel-item:last-child::after {align-self: flex-start;width: 50%;}#sk-container-id-3 div.sk-parallel-item:only-child::after {width: 0;}#sk-container-id-3 div.sk-dashed-wrapped {border: 1px dashed gray;margin: 0 0.4em 0.5em 0.4em;box-sizing: border-box;padding-bottom: 0.4em;background-color: white;}#sk-container-id-3 div.sk-label label {font-family: monospace;font-weight: bold;display: inline-block;line-height: 1.2em;}#sk-container-id-3 div.sk-label-container {text-align: center;}#sk-container-id-3 div.sk-container {/* jupyter's `normalize.less` sets `[hidden] { display: none; }` but bootstrap.min.css set `[hidden] { display: none !important; }` so we also need the `!important` here to be able to override the default hidden behavior on the sphinx rendered scikit-learn.org. See: https://github.com/scikit-learn/scikit-learn/issues/21755 */display: inline-block !important;position: relative;}#sk-container-id-3 div.sk-text-repr-fallback {display: none;}</style><div id=\"sk-container-id-3\" class=\"sk-top-container\"><div class=\"sk-text-repr-fallback\"><pre>RandomForestClassifier(criterion=&#x27;log_loss&#x27;, max_features=&#x27;log2&#x27;,\n",
       "                       min_samples_split=3, n_estimators=110)</pre><b>In a Jupyter environment, please rerun this cell to show the HTML representation or trust the notebook. <br />On GitHub, the HTML representation is unable to render, please try loading this page with nbviewer.org.</b></div><div class=\"sk-container\" hidden><div class=\"sk-item\"><div class=\"sk-estimator sk-toggleable\"><input class=\"sk-toggleable__control sk-hidden--visually\" id=\"sk-estimator-id-5\" type=\"checkbox\" checked><label for=\"sk-estimator-id-5\" class=\"sk-toggleable__label sk-toggleable__label-arrow\">RandomForestClassifier</label><div class=\"sk-toggleable__content\"><pre>RandomForestClassifier(criterion=&#x27;log_loss&#x27;, max_features=&#x27;log2&#x27;,\n",
       "                       min_samples_split=3, n_estimators=110)</pre></div></div></div></div></div>"
      ],
      "text/plain": [
       "RandomForestClassifier(criterion='log_loss', max_features='log2',\n",
       "                       min_samples_split=3, n_estimators=110)"
      ]
     },
     "execution_count": 151,
     "metadata": {},
     "output_type": "execute_result"
    }
   ],
   "source": [
    "from sklearn.model_selection import GridSearchCV\n",
    "grid = {\n",
    "    'n_estimators':[105,110,115],\n",
    "    \"min_samples_split\": [3,4,5],\n",
    "    \"max_features\": ['log2'],\n",
    "    \"criterion\": ['gini','entropy','log_loss']\n",
    "    \n",
    "    \n",
    "}\n",
    "RF = RandomForestClassifier()\n",
    "GCV = GridSearchCV(estimator=RF,param_grid=grid,cv=3)\n",
    "GCV.fit(X=X_train,y=y_train)\n",
    "GCV.best_estimator_"
   ]
  },
  {
   "cell_type": "markdown",
   "id": "d256eb8f",
   "metadata": {},
   "source": [
    "# Model Evaluation"
   ]
  },
  {
   "cell_type": "code",
   "execution_count": 152,
   "id": "1dd966bf",
   "metadata": {},
   "outputs": [
    {
     "name": "stdout",
     "output_type": "stream",
     "text": [
      "Accuracy of the Random forest classifer model is:  0.9721973094170404\n",
      "Precision of the Random forest classifer model is:  1.0\n"
     ]
    }
   ],
   "source": [
    "RF = RandomForestClassifier(criterion='log_loss', max_features='log2',\n",
    "                       min_samples_split=3, n_estimators=110)\n",
    "RF.fit(X_train,y_train)\n",
    "y_predict_rf = RF.predict(X_test)\n",
    "print(\"Accuracy of the Random forest classifer model is: \", accuracy_score(y_test, y_predict_rf))\n",
    "print(\"Precision of the Random forest classifer model is: \",precision_score(y_test,y_predict_rf))"
   ]
  },
  {
   "cell_type": "markdown",
   "id": "86262f39",
   "metadata": {},
   "source": [
    "# Providing external input"
   ]
  },
  {
   "cell_type": "code",
   "execution_count": 281,
   "id": "eb82d252",
   "metadata": {},
   "outputs": [],
   "source": [
    "def preprocess(sms):\n",
    "    # Converting the text to lower case\n",
    "    sms = sms.lower()\n",
    "    sms= word_tokenize(sms)\n",
    "    # Keeping only the alphanumeric part of the text\n",
    "    y = []\n",
    "    for i in sms:\n",
    "        if i.isalnum():\n",
    "            y.append(i)\n",
    "    preprocessed_sms = y[:]\n",
    "    y.clear()\n",
    "    \n",
    "    # Performing stemming after removing the stopwords\n",
    "    for i in preprocessed_sms:\n",
    "        if i not in stop_words and i not in string.punctuation:\n",
    "            y.append(ps.stem(i))\n",
    "    preprocessed_sms = y[:]\n",
    "    y.clear()\n",
    "    return \" \".join(preprocessed_sms)"
   ]
  },
  {
   "cell_type": "code",
   "execution_count": 285,
   "id": "19e8965a",
   "metadata": {},
   "outputs": [],
   "source": [
    "def vectorize_input(text):\n",
    "    # feature extraction\n",
    "    words_count = len(text.split(\" \"))\n",
    "    sentences_count = len(sent_tokenize(text))\n",
    "    charecters_count = len(text)\n",
    "    additional_features =  np.array([words_count,sentences_count,charecters_count])\n",
    "    \n",
    "    print(additional_features)\n",
    "    # Preprocesing the data\n",
    "    pre_processed_text = preprocess(text)\n",
    "    #print([pre_processed_text])\n",
    "    \n",
    "    # Vectorizing the text \n",
    "    vectorized_text = cv.transform([pre_processed_text]).toarray()\n",
    "    #print(additional_features)\n",
    "    vectorized_text = vectorized_text.reshape(-1)\n",
    "    vectorized_input = np.hstack((additional_features,vectorized_text))\n",
    "    return vectorized_input"
   ]
  },
  {
   "cell_type": "code",
   "execution_count": 307,
   "id": "438a7154",
   "metadata": {},
   "outputs": [],
   "source": [
    "text = \"Oh k...i'm watching here:)\""
   ]
  },
  {
   "cell_type": "code",
   "execution_count": 310,
   "id": "65727ce0",
   "metadata": {},
   "outputs": [
    {
     "name": "stdout",
     "output_type": "stream",
     "text": [
      "[ 4  1 26]\n"
     ]
    },
    {
     "name": "stderr",
     "output_type": "stream",
     "text": [
      "C:\\Users\\prasa\\AppData\\Roaming\\Python\\Python39\\site-packages\\sklearn\\base.py:464: UserWarning: X does not have valid feature names, but RandomForestClassifier was fitted with feature names\n",
      "  warnings.warn(\n"
     ]
    },
    {
     "data": {
      "text/plain": [
       "array([0], dtype=int64)"
      ]
     },
     "execution_count": 310,
     "metadata": {},
     "output_type": "execute_result"
    }
   ],
   "source": [
    "input_vector = vectorize_input(text)\n",
    "RF.predict(input_vector.reshape(1,-1))"
   ]
  },
  {
   "cell_type": "markdown",
   "id": "3ccf785d",
   "metadata": {},
   "source": [
    "# Exporting the pickle files"
   ]
  },
  {
   "cell_type": "code",
   "execution_count": 311,
   "id": "608f80d7",
   "metadata": {},
   "outputs": [],
   "source": [
    "import pickle\n"
   ]
  },
  {
   "cell_type": "code",
   "execution_count": 312,
   "id": "5cc660ff",
   "metadata": {},
   "outputs": [],
   "source": [
    "pickle.dump(cv, open('cv.pkl','wb'))\n",
    "pickle.dump(RF,open('RF.pkl','wb'))"
   ]
  },
  {
   "cell_type": "code",
   "execution_count": 314,
   "id": "143c6ed4",
   "metadata": {},
   "outputs": [],
   "source": [
    "pickle.dump(vectorize_input,open('vectorize_input.pkl','wb'))"
   ]
  },
  {
   "cell_type": "code",
   "execution_count": 316,
   "id": "41e69064",
   "metadata": {},
   "outputs": [
    {
     "data": {
      "text/plain": [
       "'07732584351 - Rodger Burns - MSG = We tried to call you re your reply to our sms for a free nokia mobile + free camcorder. Please call now 08000930705 for delivery tomorrow'"
      ]
     },
     "execution_count": 316,
     "metadata": {},
     "output_type": "execute_result"
    }
   ],
   "source": [
    "df[df['target']==1].iloc[9]['sms']"
   ]
  },
  {
   "cell_type": "code",
   "execution_count": null,
   "id": "9e21afe4",
   "metadata": {},
   "outputs": [],
   "source": []
  }
 ],
 "metadata": {
  "kernelspec": {
   "display_name": "Python 3 (ipykernel)",
   "language": "python",
   "name": "python3"
  },
  "language_info": {
   "codemirror_mode": {
    "name": "ipython",
    "version": 3
   },
   "file_extension": ".py",
   "mimetype": "text/x-python",
   "name": "python",
   "nbconvert_exporter": "python",
   "pygments_lexer": "ipython3",
   "version": "3.9.12"
  }
 },
 "nbformat": 4,
 "nbformat_minor": 5
}

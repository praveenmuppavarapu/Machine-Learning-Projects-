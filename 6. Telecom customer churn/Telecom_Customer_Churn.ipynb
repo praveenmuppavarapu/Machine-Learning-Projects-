{
 "cells": [
  {
   "cell_type": "markdown",
   "id": "ed5ed248",
   "metadata": {},
   "source": [
    "# 1. Problem statement:\n",
    "Customer churn is a major problem for businesses of all sizes. In the telecommunications industry, for example, the average annual churn rate is 15-25%. This means that businesses are constantly losing customers, which can have a significant impact on their bottom line.\n",
    "There are a number of factors that can contribute to customer churn, such as:\n",
    "\n",
    "1. Poor customer service\n",
    "2. High prices\n",
    "3. Lack of competitive products or services\n",
    "4. Competition from other businesses\n",
    "5. Changes in customer needs or preferences\n",
    "\n",
    "By understanding the factors that contribute to customer churn, businesses can take steps to reduce it. This can include improving customer service, offering competitive prices, and developing new products and services that meet the needs of their customers."
   ]
  },
  {
   "cell_type": "markdown",
   "id": "f6540b8a",
   "metadata": {},
   "source": [
    "# 2. Project Objective:\n",
    "The goal of this project is to develop a customer churn prediction model that can be used to identify customers who are at risk of churning. This model will be used to target customers with specific interventions, such as offering them discounts or upgrades, in order to reduce the likelihood of them churning.\n",
    "\n",
    "The project will also identify the factors that contribute to customer churn. This information will be used to develop strategies for reducing churn, such as improving customer service, offering competitive prices, running new campaings, and developing new products and services that meet the needs of customers."
   ]
  },
  {
   "cell_type": "markdown",
   "id": "7f820192",
   "metadata": {},
   "source": [
    "# 3. Data set description:\n",
    "The data set includes information about:\n",
    "\n",
    "* Customers who left within the last month – the column is called Churn\n",
    "* Services that each customer has signed up for – phone, multiple lines, internet, online security, online backup, device protection, tech support, and streaming TV and movies\n",
    "* Customer account information – how long they’ve been a customer, contract, payment method, paperless billing, monthly charges, and total charges\n",
    "* Demographic info about customers – gender, age range, and if they have partners and dependents"
   ]
  },
  {
   "cell_type": "code",
   "execution_count": 40,
   "id": "6f2e3a73",
   "metadata": {},
   "outputs": [],
   "source": [
    "# Importing necessary libraries\n",
    "import numpy as np \n",
    "import pandas as pd\n",
    "import matplotlib.pyplot as plt \n",
    "import seaborn as sb \n",
    "\n",
    "import warnings\n",
    "\n",
    "warnings.filterwarnings(\"ignore\")"
   ]
  },
  {
   "cell_type": "code",
   "execution_count": 41,
   "id": "043e8b30",
   "metadata": {},
   "outputs": [
    {
     "data": {
      "text/html": [
       "<div>\n",
       "<style scoped>\n",
       "    .dataframe tbody tr th:only-of-type {\n",
       "        vertical-align: middle;\n",
       "    }\n",
       "\n",
       "    .dataframe tbody tr th {\n",
       "        vertical-align: top;\n",
       "    }\n",
       "\n",
       "    .dataframe thead th {\n",
       "        text-align: right;\n",
       "    }\n",
       "</style>\n",
       "<table border=\"1\" class=\"dataframe\">\n",
       "  <thead>\n",
       "    <tr style=\"text-align: right;\">\n",
       "      <th></th>\n",
       "      <th>customerID</th>\n",
       "      <th>gender</th>\n",
       "      <th>SeniorCitizen</th>\n",
       "      <th>Partner</th>\n",
       "      <th>Dependents</th>\n",
       "      <th>tenure</th>\n",
       "      <th>PhoneService</th>\n",
       "      <th>MultipleLines</th>\n",
       "      <th>InternetService</th>\n",
       "      <th>OnlineSecurity</th>\n",
       "      <th>...</th>\n",
       "      <th>DeviceProtection</th>\n",
       "      <th>TechSupport</th>\n",
       "      <th>StreamingTV</th>\n",
       "      <th>StreamingMovies</th>\n",
       "      <th>Contract</th>\n",
       "      <th>PaperlessBilling</th>\n",
       "      <th>PaymentMethod</th>\n",
       "      <th>MonthlyCharges</th>\n",
       "      <th>TotalCharges</th>\n",
       "      <th>Churn</th>\n",
       "    </tr>\n",
       "  </thead>\n",
       "  <tbody>\n",
       "    <tr>\n",
       "      <th>0</th>\n",
       "      <td>7590-VHVEG</td>\n",
       "      <td>Female</td>\n",
       "      <td>0</td>\n",
       "      <td>Yes</td>\n",
       "      <td>No</td>\n",
       "      <td>1</td>\n",
       "      <td>No</td>\n",
       "      <td>No phone service</td>\n",
       "      <td>DSL</td>\n",
       "      <td>No</td>\n",
       "      <td>...</td>\n",
       "      <td>No</td>\n",
       "      <td>No</td>\n",
       "      <td>No</td>\n",
       "      <td>No</td>\n",
       "      <td>Month-to-month</td>\n",
       "      <td>Yes</td>\n",
       "      <td>Electronic check</td>\n",
       "      <td>29.85</td>\n",
       "      <td>29.85</td>\n",
       "      <td>No</td>\n",
       "    </tr>\n",
       "    <tr>\n",
       "      <th>1</th>\n",
       "      <td>5575-GNVDE</td>\n",
       "      <td>Male</td>\n",
       "      <td>0</td>\n",
       "      <td>No</td>\n",
       "      <td>No</td>\n",
       "      <td>34</td>\n",
       "      <td>Yes</td>\n",
       "      <td>No</td>\n",
       "      <td>DSL</td>\n",
       "      <td>Yes</td>\n",
       "      <td>...</td>\n",
       "      <td>Yes</td>\n",
       "      <td>No</td>\n",
       "      <td>No</td>\n",
       "      <td>No</td>\n",
       "      <td>One year</td>\n",
       "      <td>No</td>\n",
       "      <td>Mailed check</td>\n",
       "      <td>56.95</td>\n",
       "      <td>1889.5</td>\n",
       "      <td>No</td>\n",
       "    </tr>\n",
       "    <tr>\n",
       "      <th>2</th>\n",
       "      <td>3668-QPYBK</td>\n",
       "      <td>Male</td>\n",
       "      <td>0</td>\n",
       "      <td>No</td>\n",
       "      <td>No</td>\n",
       "      <td>2</td>\n",
       "      <td>Yes</td>\n",
       "      <td>No</td>\n",
       "      <td>DSL</td>\n",
       "      <td>Yes</td>\n",
       "      <td>...</td>\n",
       "      <td>No</td>\n",
       "      <td>No</td>\n",
       "      <td>No</td>\n",
       "      <td>No</td>\n",
       "      <td>Month-to-month</td>\n",
       "      <td>Yes</td>\n",
       "      <td>Mailed check</td>\n",
       "      <td>53.85</td>\n",
       "      <td>108.15</td>\n",
       "      <td>Yes</td>\n",
       "    </tr>\n",
       "    <tr>\n",
       "      <th>3</th>\n",
       "      <td>7795-CFOCW</td>\n",
       "      <td>Male</td>\n",
       "      <td>0</td>\n",
       "      <td>No</td>\n",
       "      <td>No</td>\n",
       "      <td>45</td>\n",
       "      <td>No</td>\n",
       "      <td>No phone service</td>\n",
       "      <td>DSL</td>\n",
       "      <td>Yes</td>\n",
       "      <td>...</td>\n",
       "      <td>Yes</td>\n",
       "      <td>Yes</td>\n",
       "      <td>No</td>\n",
       "      <td>No</td>\n",
       "      <td>One year</td>\n",
       "      <td>No</td>\n",
       "      <td>Bank transfer (automatic)</td>\n",
       "      <td>42.30</td>\n",
       "      <td>1840.75</td>\n",
       "      <td>No</td>\n",
       "    </tr>\n",
       "    <tr>\n",
       "      <th>4</th>\n",
       "      <td>9237-HQITU</td>\n",
       "      <td>Female</td>\n",
       "      <td>0</td>\n",
       "      <td>No</td>\n",
       "      <td>No</td>\n",
       "      <td>2</td>\n",
       "      <td>Yes</td>\n",
       "      <td>No</td>\n",
       "      <td>Fiber optic</td>\n",
       "      <td>No</td>\n",
       "      <td>...</td>\n",
       "      <td>No</td>\n",
       "      <td>No</td>\n",
       "      <td>No</td>\n",
       "      <td>No</td>\n",
       "      <td>Month-to-month</td>\n",
       "      <td>Yes</td>\n",
       "      <td>Electronic check</td>\n",
       "      <td>70.70</td>\n",
       "      <td>151.65</td>\n",
       "      <td>Yes</td>\n",
       "    </tr>\n",
       "  </tbody>\n",
       "</table>\n",
       "<p>5 rows × 21 columns</p>\n",
       "</div>"
      ],
      "text/plain": [
       "   customerID  gender  SeniorCitizen Partner Dependents  tenure PhoneService  \\\n",
       "0  7590-VHVEG  Female              0     Yes         No       1           No   \n",
       "1  5575-GNVDE    Male              0      No         No      34          Yes   \n",
       "2  3668-QPYBK    Male              0      No         No       2          Yes   \n",
       "3  7795-CFOCW    Male              0      No         No      45           No   \n",
       "4  9237-HQITU  Female              0      No         No       2          Yes   \n",
       "\n",
       "      MultipleLines InternetService OnlineSecurity  ... DeviceProtection  \\\n",
       "0  No phone service             DSL             No  ...               No   \n",
       "1                No             DSL            Yes  ...              Yes   \n",
       "2                No             DSL            Yes  ...               No   \n",
       "3  No phone service             DSL            Yes  ...              Yes   \n",
       "4                No     Fiber optic             No  ...               No   \n",
       "\n",
       "  TechSupport StreamingTV StreamingMovies        Contract PaperlessBilling  \\\n",
       "0          No          No              No  Month-to-month              Yes   \n",
       "1          No          No              No        One year               No   \n",
       "2          No          No              No  Month-to-month              Yes   \n",
       "3         Yes          No              No        One year               No   \n",
       "4          No          No              No  Month-to-month              Yes   \n",
       "\n",
       "               PaymentMethod MonthlyCharges  TotalCharges Churn  \n",
       "0           Electronic check          29.85         29.85    No  \n",
       "1               Mailed check          56.95        1889.5    No  \n",
       "2               Mailed check          53.85        108.15   Yes  \n",
       "3  Bank transfer (automatic)          42.30       1840.75    No  \n",
       "4           Electronic check          70.70        151.65   Yes  \n",
       "\n",
       "[5 rows x 21 columns]"
      ]
     },
     "execution_count": 41,
     "metadata": {},
     "output_type": "execute_result"
    }
   ],
   "source": [
    "# Reading data \n",
    "df = pd.read_csv(r\"C:\\Users\\prasa\\Dropbox\\PC\\Desktop\\ML-Projects\\Portfolio\\Customer Churn\\customer_churn.csv\")\n",
    "df.head()"
   ]
  },
  {
   "cell_type": "markdown",
   "id": "0622cd08",
   "metadata": {},
   "source": [
    "# 4. Performing EDA"
   ]
  },
  {
   "cell_type": "code",
   "execution_count": 42,
   "id": "8c28ef50",
   "metadata": {},
   "outputs": [
    {
     "name": "stdout",
     "output_type": "stream",
     "text": [
      "Shape of the data frame:  (7043, 21)\n"
     ]
    }
   ],
   "source": [
    "print(\"Shape of the data frame: \",df.shape)"
   ]
  },
  {
   "cell_type": "code",
   "execution_count": 43,
   "id": "e621b970",
   "metadata": {},
   "outputs": [
    {
     "name": "stdout",
     "output_type": "stream",
     "text": [
      "Null values present in the dataset:\n",
      " customerID          0\n",
      "gender              0\n",
      "SeniorCitizen       0\n",
      "Partner             0\n",
      "Dependents          0\n",
      "tenure              0\n",
      "PhoneService        0\n",
      "MultipleLines       0\n",
      "InternetService     0\n",
      "OnlineSecurity      0\n",
      "OnlineBackup        0\n",
      "DeviceProtection    0\n",
      "TechSupport         0\n",
      "StreamingTV         0\n",
      "StreamingMovies     0\n",
      "Contract            0\n",
      "PaperlessBilling    0\n",
      "PaymentMethod       0\n",
      "MonthlyCharges      0\n",
      "TotalCharges        0\n",
      "Churn               0\n",
      "dtype: int64\n"
     ]
    }
   ],
   "source": [
    "print(\"Null values present in the dataset:\\n\",df.isna().sum())"
   ]
  },
  {
   "cell_type": "code",
   "execution_count": 44,
   "id": "cf0719ed",
   "metadata": {},
   "outputs": [
    {
     "name": "stdout",
     "output_type": "stream",
     "text": [
      "<class 'pandas.core.frame.DataFrame'>\n",
      "RangeIndex: 7043 entries, 0 to 7042\n",
      "Data columns (total 21 columns):\n",
      " #   Column            Non-Null Count  Dtype  \n",
      "---  ------            --------------  -----  \n",
      " 0   customerID        7043 non-null   object \n",
      " 1   gender            7043 non-null   object \n",
      " 2   SeniorCitizen     7043 non-null   int64  \n",
      " 3   Partner           7043 non-null   object \n",
      " 4   Dependents        7043 non-null   object \n",
      " 5   tenure            7043 non-null   int64  \n",
      " 6   PhoneService      7043 non-null   object \n",
      " 7   MultipleLines     7043 non-null   object \n",
      " 8   InternetService   7043 non-null   object \n",
      " 9   OnlineSecurity    7043 non-null   object \n",
      " 10  OnlineBackup      7043 non-null   object \n",
      " 11  DeviceProtection  7043 non-null   object \n",
      " 12  TechSupport       7043 non-null   object \n",
      " 13  StreamingTV       7043 non-null   object \n",
      " 14  StreamingMovies   7043 non-null   object \n",
      " 15  Contract          7043 non-null   object \n",
      " 16  PaperlessBilling  7043 non-null   object \n",
      " 17  PaymentMethod     7043 non-null   object \n",
      " 18  MonthlyCharges    7043 non-null   float64\n",
      " 19  TotalCharges      7043 non-null   object \n",
      " 20  Churn             7043 non-null   object \n",
      "dtypes: float64(1), int64(2), object(18)\n",
      "memory usage: 1.1+ MB\n"
     ]
    }
   ],
   "source": [
    "# Summarizing the data \n",
    "df.info()"
   ]
  },
  {
   "cell_type": "markdown",
   "id": "c961fd54",
   "metadata": {},
   "source": [
    "####  <h4><center>Observations</center></h4>:\n",
    "* Most of the features are categorical.\n",
    "* Data contains no null values. \n",
    "* Confusingly, TotalCahrges is in \"String\" format. This could be a mistake in the data. We should pay attention to this while visualizing the data as a part of univariate or multivariate analysis.\n"
   ]
  },
  {
   "cell_type": "markdown",
   "id": "278fa21b",
   "metadata": {},
   "source": [
    "### 4.1. Understanding the distrubution of the target variable"
   ]
  },
  {
   "cell_type": "code",
   "execution_count": 45,
   "id": "c9dff9a5",
   "metadata": {},
   "outputs": [
    {
     "name": "stdout",
     "output_type": "stream",
     "text": [
      "Customers who churned:  5174\n",
      "Customers who stayed:  1869\n"
     ]
    },
    {
     "data": {
      "image/png": "[encoded data removed]",
      "text/plain": [
       "<Figure size 720x432 with 1 Axes>"
      ]
     },
     "metadata": {},
     "output_type": "display_data"
    }
   ],
   "source": [
    "churn_dist  = df['Churn'].value_counts()\n",
    "print(\"Customers who churned: \",churn_dist[0])\n",
    "print(\"Customers who stayed: \",churn_dist[1])\n",
    "plt.figure(figsize=(10,6))\n",
    "sb.barplot(x=churn_dist.index,y=churn_dist.values)\n",
    "plt.show()"
   ]
  },
  {
   "cell_type": "markdown",
   "id": "3aea5482",
   "metadata": {},
   "source": [
    "#### Observation:\n",
    "As per the distribution, it is clear that the dataset is imbalanced. This should be handled while training the model."
   ]
  },
  {
   "cell_type": "markdown",
   "id": "768fa714",
   "metadata": {},
   "source": [
    "### 4.2. Analysing the  numerical variables: \n",
    "[SeniorCitizen, tenure, MonthlyCharges, TotalCharges]"
   ]
  },
  {
   "cell_type": "code",
   "execution_count": 46,
   "id": "9410ceb5",
   "metadata": {},
   "outputs": [],
   "source": [
    "# Converting TotalCharges feature into float type for better visualization\n",
    "df['TotalCharges'] = pd.to_numeric(df['TotalCharges'],errors='coerce')\n"
   ]
  },
  {
   "cell_type": "code",
   "execution_count": 47,
   "id": "cff7759c",
   "metadata": {},
   "outputs": [
    {
     "data": {
      "text/html": [
       "<div>\n",
       "<style scoped>\n",
       "    .dataframe tbody tr th:only-of-type {\n",
       "        vertical-align: middle;\n",
       "    }\n",
       "\n",
       "    .dataframe tbody tr th {\n",
       "        vertical-align: top;\n",
       "    }\n",
       "\n",
       "    .dataframe thead th {\n",
       "        text-align: right;\n",
       "    }\n",
       "</style>\n",
       "<table border=\"1\" class=\"dataframe\">\n",
       "  <thead>\n",
       "    <tr style=\"text-align: right;\">\n",
       "      <th></th>\n",
       "      <th>SeniorCitizen</th>\n",
       "      <th>tenure</th>\n",
       "      <th>MonthlyCharges</th>\n",
       "      <th>TotalCharges</th>\n",
       "    </tr>\n",
       "  </thead>\n",
       "  <tbody>\n",
       "    <tr>\n",
       "      <th>count</th>\n",
       "      <td>7043.000000</td>\n",
       "      <td>7043.000000</td>\n",
       "      <td>7043.000000</td>\n",
       "      <td>7032.000000</td>\n",
       "    </tr>\n",
       "    <tr>\n",
       "      <th>mean</th>\n",
       "      <td>0.162147</td>\n",
       "      <td>32.371149</td>\n",
       "      <td>64.761692</td>\n",
       "      <td>2283.300441</td>\n",
       "    </tr>\n",
       "    <tr>\n",
       "      <th>std</th>\n",
       "      <td>0.368612</td>\n",
       "      <td>24.559481</td>\n",
       "      <td>30.090047</td>\n",
       "      <td>2266.771362</td>\n",
       "    </tr>\n",
       "    <tr>\n",
       "      <th>min</th>\n",
       "      <td>0.000000</td>\n",
       "      <td>0.000000</td>\n",
       "      <td>18.250000</td>\n",
       "      <td>18.800000</td>\n",
       "    </tr>\n",
       "    <tr>\n",
       "      <th>25%</th>\n",
       "      <td>0.000000</td>\n",
       "      <td>9.000000</td>\n",
       "      <td>35.500000</td>\n",
       "      <td>401.450000</td>\n",
       "    </tr>\n",
       "    <tr>\n",
       "      <th>50%</th>\n",
       "      <td>0.000000</td>\n",
       "      <td>29.000000</td>\n",
       "      <td>70.350000</td>\n",
       "      <td>1397.475000</td>\n",
       "    </tr>\n",
       "    <tr>\n",
       "      <th>75%</th>\n",
       "      <td>0.000000</td>\n",
       "      <td>55.000000</td>\n",
       "      <td>89.850000</td>\n",
       "      <td>3794.737500</td>\n",
       "    </tr>\n",
       "    <tr>\n",
       "      <th>max</th>\n",
       "      <td>1.000000</td>\n",
       "      <td>72.000000</td>\n",
       "      <td>118.750000</td>\n",
       "      <td>8684.800000</td>\n",
       "    </tr>\n",
       "  </tbody>\n",
       "</table>\n",
       "</div>"
      ],
      "text/plain": [
       "       SeniorCitizen       tenure  MonthlyCharges  TotalCharges\n",
       "count    7043.000000  7043.000000     7043.000000   7032.000000\n",
       "mean        0.162147    32.371149       64.761692   2283.300441\n",
       "std         0.368612    24.559481       30.090047   2266.771362\n",
       "min         0.000000     0.000000       18.250000     18.800000\n",
       "25%         0.000000     9.000000       35.500000    401.450000\n",
       "50%         0.000000    29.000000       70.350000   1397.475000\n",
       "75%         0.000000    55.000000       89.850000   3794.737500\n",
       "max         1.000000    72.000000      118.750000   8684.800000"
      ]
     },
     "execution_count": 47,
     "metadata": {},
     "output_type": "execute_result"
    }
   ],
   "source": [
    "df.describe()"
   ]
  },
  {
   "cell_type": "markdown",
   "id": "7381bd3f",
   "metadata": {},
   "source": [
    "####  <h4><center>Observations</center></h4>:\n",
    "* `SeniorCitizen`: Looks like this is a categorical representation of whether the citizen is Senior or not. \n",
    "\n",
    "* `tenure`: 75 percentile of the customer base is under 55 months tenure. That means loyal customers are existing in a good number\n",
    "\n",
    "* `MonthlyCharges`: No null values exisit in the data.\n",
    "\n",
    "* `TotalCharges`: 11 NaN values are found. These nulls should be handled properly using imputation techniques during feature engineering.\n",
    "\n"
   ]
  },
  {
   "cell_type": "code",
   "execution_count": 48,
   "id": "4b28d011",
   "metadata": {},
   "outputs": [
    {
     "data": {
      "image/png": "[encoded data removed]",
      "text/plain": [
       "<Figure size 1440x360 with 3 Axes>"
      ]
     },
     "metadata": {},
     "output_type": "display_data"
    }
   ],
   "source": [
    "sb.set_style(style='darkgrid')\n",
    "fig,axis = plt.subplots(nrows=1,ncols=3,figsize=(20,5),sharex=False,sharey=False)\n",
    "plt.suptitle(t='Probability distributions of the numerival variables',fontsize=23,fontweight='bold',y=1.2)\n",
    "\n",
    "# Tenure plot \n",
    "sb.kdeplot(data=df['tenure'],ax=axis[0],shade=True)\n",
    "axis[0].set_title('Tenure',fontsize=18)\n",
    "axis[0].set_xlabel(\"Tenure as months\",fontsize=16)\n",
    "\n",
    "# MonthlyCharges\n",
    "sb.kdeplot(data=df['MonthlyCharges'],shade=True,ax=axis[1])\n",
    "axis[1].set_title(\"Monthly_Charges\",fontsize=18)\n",
    "axis[1].set_xlabel(\"Monthly payment amount\",fontsize=16)\n",
    "\n",
    "# Total_Charges\n",
    "sb.kdeplot(data=df['TotalCharges'],shade=True,ax=axis[2])\n",
    "axis[2].set_title(\"Total_Charges\",fontsize=18)\n",
    "axis[2].set_xlabel(\"Total payment amount\",fontsize=16)\n",
    "\n",
    "plt.show()\n",
    "\n"
   ]
  },
  {
   "cell_type": "markdown",
   "id": "4fa91de0",
   "metadata": {},
   "source": [
    "#  <h4><center>Observations</center></h4> \n",
    "1. `Tenure` distribution is appearing to be bimodal distribution. Majority of the customer are tend to be either relatively new (0-10 months) or tend to be willing to stay for more period(>5 years).\n",
    "     - With the above distribution it is very clear that there are some issues for the new customers that are stopping them to continue further. If we can successfully predict which customers are in danger of churn, we can be able to control this rate of churning by providing some extra perks to stay with the company.\n",
    "     \n",
    "2. `MonthlyCharge` distribution resembles bimodel distribution with a slight peak in the middle. As per the distribution, it is clear that Majority of the customers are preferring either low monthly payments or willing to pay high payments. \n",
    "\n",
    "3. `TotalCharges` distribution is a right skewed distribution, that indicates most of the customers are opting for lower Totalpayments. \n",
    "\n",
    "Here we we understood the customer behavior in terms of their spend with the company and their payment amounts. Let's add the target variable to our analysis and observe the changes/patterns."
   ]
  },
  {
   "cell_type": "code",
   "execution_count": 49,
   "id": "9b13c1e5",
   "metadata": {},
   "outputs": [
    {
     "data": {
      "image/png": "[encoded data removed]",
      "text/plain": [
       "<Figure size 1440x432 with 3 Axes>"
      ]
     },
     "metadata": {},
     "output_type": "display_data"
    }
   ],
   "source": [
    "sb.set_style(style='darkgrid')\n",
    "fig,axis = plt.subplots(nrows=1,ncols=3,figsize=(20,6))\n",
    "plt.suptitle(\"Distribution of the numerical columns by Churn class\",fontsize=25,y=1.1,fontweight='bold')\n",
    "\n",
    "# Tenure\n",
    "sb.boxplot(data=df,x='Churn',y='tenure',ax=axis[0])\n",
    "axis[0].set_title('Tenure',fontsize=18)\n",
    "axis[0].set_xlabel('Churn',fontsize=16)\n",
    "axis[0].set_ylabel(\"Tenure in months\",fontsize=16)\n",
    "\n",
    "\n",
    "# Monthly_Charges\n",
    "sb.boxplot(data=df,x='Churn',y='MonthlyCharges',ax=axis[1])\n",
    "axis[1].set_title(\"Monthly_Charges\",fontsize=18)\n",
    "axis[1].set_xlabel('Churn',fontsize=16)\n",
    "axis[1].set_ylabel('Monthly payment amount',fontsize=16)\n",
    "\n",
    "\n",
    "# Total_Charges\n",
    "\n",
    "sb.boxplot(data=df,x='Churn',y='TotalCharges',ax = axis[2])\n",
    "axis[2].set_title(\"Total_Charges\",fontsize=18)\n",
    "axis[2].set_xlabel(\"Churn\",fontsize=16)\n",
    "axis[2].set_ylabel(\"Total payment amount\",fontsize=16)\n",
    "\n",
    "plt.show()\n"
   ]
  },
  {
   "cell_type": "markdown",
   "id": "d3578fd4",
   "metadata": {},
   "source": [
    "# <h4><center>Observations</center></h4>\n",
    "1. `Tenure`: Customers who churned are the customers that spend less time with the company.\n",
    "\n",
    "2. `MonthlyCharges`: Customers who churned tend to have higher monthly charge amount than other non churn customers. \n",
    "\n",
    "3. `TotalCharges`: Churned customers are having low `TotalCharges` comparing to non-churned members. \n",
    "\n",
    "* By looking at the `TotalCharges` distribution, we can find some descent no of outlined observations. These outliers indicates that there are considerable no of customers who stayed with the company for a long time and they tend to churn because of some x factors. Generally speaking they are the very old customers who stayed with the company over years and paid high `TotalCharges`. \n",
    "\n",
    "Let's try to understand more about these outlier observations."
   ]
  },
  {
   "cell_type": "code",
   "execution_count": 50,
   "id": "812b880f",
   "metadata": {},
   "outputs": [
    {
     "name": "stdout",
     "output_type": "stream",
     "text": [
      "Lower bound is:  -3160.7000000000003\n",
      "Upper bound is:  5626.5\n",
      "no of customers in the outlined region:  109\n",
      "Total amount received by the outlined customers in the form of TotalCharges:  727060.6500000001\n",
      "Total amount recieved amount by all the customers:  16056168.7\n",
      "Avg amount spend by each outlined customer:  6670.281192660553\n"
     ]
    }
   ],
   "source": [
    "q1  = df[df['Churn']=='Yes']['TotalCharges'].quantile(0.25)\n",
    "q3  = df[df['Churn']=='Yes']['TotalCharges'].quantile(0.75)\n",
    "iqr = q3-q1\n",
    "lower_bound = q1-iqr*1.5\n",
    "upper_bound = q3+iqr*1.5\n",
    "\n",
    "print(\"Lower bound is: \",lower_bound)\n",
    "print(\"Upper bound is: \", upper_bound)\n",
    "\n",
    "print(\"no of customers in the outlined region: \",len(df[(df['Churn']=='Yes')&(df['TotalCharges']>upper_bound)]))\n",
    "\n",
    "outlined_customers = df[(df['Churn']=='Yes')&(df['TotalCharges']>upper_bound)]\n",
    "# Total amount received by the outlined customers in the form of TotalCharges \n",
    "total_paymet_received = outlined_customers['TotalCharges'].sum()\n",
    "print(\"Total amount received by the outlined customers in the form of TotalCharges: \", total_paymet_received)\n",
    "print(\"Total amount recieved amount by all the customers: \",df['TotalCharges'].sum())\n",
    "print(\"Avg amount spend by each outlined customer: \",outlined_customers['TotalCharges'].mean())"
   ]
  },
  {
   "cell_type": "markdown",
   "id": "e9d90e4f",
   "metadata": {},
   "source": [
    "# <h4><center>Observations</center></h4>\n",
    "* There are 109 such best-paying customers who ended up churning.  On average, each person spent \\\\$6,670 over their entire customer lifetime, and as a whole, the entire group of outliers ended up contributing approximately \\\\$727,060 to the company's bottom line. \n",
    "\n",
    "* These individuals are our most valuable customers, and we would like to retain them as much as possible.  By being able to predict whether or not such customers are at risk of leaving, we will be better placed to offer these inviduals incentives to stay."
   ]
  },
  {
   "cell_type": "markdown",
   "id": "5c7b8dbb",
   "metadata": {},
   "source": [
    "# <h3>Checking for correlation within the numerical data.</h3>\n",
    "* If The variables are extreemly correlated with each other then some of the features can be dropped to avoid the problem of multicollinearity"
   ]
  },
  {
   "cell_type": "code",
   "execution_count": 51,
   "id": "34cd88ad",
   "metadata": {},
   "outputs": [
    {
     "data": {
      "text/plain": [
       "<AxesSubplot:>"
      ]
     },
     "execution_count": 51,
     "metadata": {},
     "output_type": "execute_result"
    },
    {
     "data": {
      "image/png": "[encoded data removed]",
      "text/plain": [
       "<Figure size 720x432 with 2 Axes>"
      ]
     },
     "metadata": {},
     "output_type": "display_data"
    }
   ],
   "source": [
    "# Generating correlation matrix and visualising with heatmap\n",
    "corre_matrix = df[['tenure','MonthlyCharges','TotalCharges']].corr()\n",
    "plt.figure(figsize=(10,6))\n",
    "sb.heatmap(corre_matrix,annot=True,cbar='cmap')"
   ]
  },
  {
   "cell_type": "markdown",
   "id": "245d53b0",
   "metadata": {},
   "source": [
    "* `tenure` and `TotalCharges` are correlated with each other with a factor of 0.83. This is obivious that, more `tenure` indicates more `TotalCharges` from the customer. But this is not such a high correlation to drop any one feature. So we will be continuing with both the features.\n",
    "\n",
    "* `MonthlyCharges` and `TotalCharges` are moderly correlated. This might be a subscription based bussinesss that's why MonthlyCharges and TotalCharges are not related to such high extent."
   ]
  },
  {
   "cell_type": "markdown",
   "id": "b769ea68",
   "metadata": {},
   "source": [
    "### 4.3. Analysing the Categorical features."
   ]
  },
  {
   "cell_type": "code",
   "execution_count": 52,
   "id": "c12495e5",
   "metadata": {},
   "outputs": [
    {
     "data": {
      "text/html": [
       "<div>\n",
       "<style scoped>\n",
       "    .dataframe tbody tr th:only-of-type {\n",
       "        vertical-align: middle;\n",
       "    }\n",
       "\n",
       "    .dataframe tbody tr th {\n",
       "        vertical-align: top;\n",
       "    }\n",
       "\n",
       "    .dataframe thead th {\n",
       "        text-align: right;\n",
       "    }\n",
       "</style>\n",
       "<table border=\"1\" class=\"dataframe\">\n",
       "  <thead>\n",
       "    <tr style=\"text-align: right;\">\n",
       "      <th></th>\n",
       "      <th>customerID</th>\n",
       "      <th>gender</th>\n",
       "      <th>SeniorCitizen</th>\n",
       "      <th>Partner</th>\n",
       "      <th>Dependents</th>\n",
       "      <th>tenure</th>\n",
       "      <th>PhoneService</th>\n",
       "      <th>MultipleLines</th>\n",
       "      <th>InternetService</th>\n",
       "      <th>OnlineSecurity</th>\n",
       "      <th>...</th>\n",
       "      <th>DeviceProtection</th>\n",
       "      <th>TechSupport</th>\n",
       "      <th>StreamingTV</th>\n",
       "      <th>StreamingMovies</th>\n",
       "      <th>Contract</th>\n",
       "      <th>PaperlessBilling</th>\n",
       "      <th>PaymentMethod</th>\n",
       "      <th>MonthlyCharges</th>\n",
       "      <th>TotalCharges</th>\n",
       "      <th>Churn</th>\n",
       "    </tr>\n",
       "  </thead>\n",
       "  <tbody>\n",
       "    <tr>\n",
       "      <th>0</th>\n",
       "      <td>7590-VHVEG</td>\n",
       "      <td>Female</td>\n",
       "      <td>0</td>\n",
       "      <td>Yes</td>\n",
       "      <td>No</td>\n",
       "      <td>1</td>\n",
       "      <td>No</td>\n",
       "      <td>No phone service</td>\n",
       "      <td>DSL</td>\n",
       "      <td>No</td>\n",
       "      <td>...</td>\n",
       "      <td>No</td>\n",
       "      <td>No</td>\n",
       "      <td>No</td>\n",
       "      <td>No</td>\n",
       "      <td>Month-to-month</td>\n",
       "      <td>Yes</td>\n",
       "      <td>Electronic check</td>\n",
       "      <td>29.85</td>\n",
       "      <td>29.85</td>\n",
       "      <td>No</td>\n",
       "    </tr>\n",
       "    <tr>\n",
       "      <th>1</th>\n",
       "      <td>5575-GNVDE</td>\n",
       "      <td>Male</td>\n",
       "      <td>0</td>\n",
       "      <td>No</td>\n",
       "      <td>No</td>\n",
       "      <td>34</td>\n",
       "      <td>Yes</td>\n",
       "      <td>No</td>\n",
       "      <td>DSL</td>\n",
       "      <td>Yes</td>\n",
       "      <td>...</td>\n",
       "      <td>Yes</td>\n",
       "      <td>No</td>\n",
       "      <td>No</td>\n",
       "      <td>No</td>\n",
       "      <td>One year</td>\n",
       "      <td>No</td>\n",
       "      <td>Mailed check</td>\n",
       "      <td>56.95</td>\n",
       "      <td>1889.50</td>\n",
       "      <td>No</td>\n",
       "    </tr>\n",
       "    <tr>\n",
       "      <th>2</th>\n",
       "      <td>3668-QPYBK</td>\n",
       "      <td>Male</td>\n",
       "      <td>0</td>\n",
       "      <td>No</td>\n",
       "      <td>No</td>\n",
       "      <td>2</td>\n",
       "      <td>Yes</td>\n",
       "      <td>No</td>\n",
       "      <td>DSL</td>\n",
       "      <td>Yes</td>\n",
       "      <td>...</td>\n",
       "      <td>No</td>\n",
       "      <td>No</td>\n",
       "      <td>No</td>\n",
       "      <td>No</td>\n",
       "      <td>Month-to-month</td>\n",
       "      <td>Yes</td>\n",
       "      <td>Mailed check</td>\n",
       "      <td>53.85</td>\n",
       "      <td>108.15</td>\n",
       "      <td>Yes</td>\n",
       "    </tr>\n",
       "    <tr>\n",
       "      <th>3</th>\n",
       "      <td>7795-CFOCW</td>\n",
       "      <td>Male</td>\n",
       "      <td>0</td>\n",
       "      <td>No</td>\n",
       "      <td>No</td>\n",
       "      <td>45</td>\n",
       "      <td>No</td>\n",
       "      <td>No phone service</td>\n",
       "      <td>DSL</td>\n",
       "      <td>Yes</td>\n",
       "      <td>...</td>\n",
       "      <td>Yes</td>\n",
       "      <td>Yes</td>\n",
       "      <td>No</td>\n",
       "      <td>No</td>\n",
       "      <td>One year</td>\n",
       "      <td>No</td>\n",
       "      <td>Bank transfer (automatic)</td>\n",
       "      <td>42.30</td>\n",
       "      <td>1840.75</td>\n",
       "      <td>No</td>\n",
       "    </tr>\n",
       "    <tr>\n",
       "      <th>4</th>\n",
       "      <td>9237-HQITU</td>\n",
       "      <td>Female</td>\n",
       "      <td>0</td>\n",
       "      <td>No</td>\n",
       "      <td>No</td>\n",
       "      <td>2</td>\n",
       "      <td>Yes</td>\n",
       "      <td>No</td>\n",
       "      <td>Fiber optic</td>\n",
       "      <td>No</td>\n",
       "      <td>...</td>\n",
       "      <td>No</td>\n",
       "      <td>No</td>\n",
       "      <td>No</td>\n",
       "      <td>No</td>\n",
       "      <td>Month-to-month</td>\n",
       "      <td>Yes</td>\n",
       "      <td>Electronic check</td>\n",
       "      <td>70.70</td>\n",
       "      <td>151.65</td>\n",
       "      <td>Yes</td>\n",
       "    </tr>\n",
       "  </tbody>\n",
       "</table>\n",
       "<p>5 rows × 21 columns</p>\n",
       "</div>"
      ],
      "text/plain": [
       "   customerID  gender  SeniorCitizen Partner Dependents  tenure PhoneService  \\\n",
       "0  7590-VHVEG  Female              0     Yes         No       1           No   \n",
       "1  5575-GNVDE    Male              0      No         No      34          Yes   \n",
       "2  3668-QPYBK    Male              0      No         No       2          Yes   \n",
       "3  7795-CFOCW    Male              0      No         No      45           No   \n",
       "4  9237-HQITU  Female              0      No         No       2          Yes   \n",
       "\n",
       "      MultipleLines InternetService OnlineSecurity  ... DeviceProtection  \\\n",
       "0  No phone service             DSL             No  ...               No   \n",
       "1                No             DSL            Yes  ...              Yes   \n",
       "2                No             DSL            Yes  ...               No   \n",
       "3  No phone service             DSL            Yes  ...              Yes   \n",
       "4                No     Fiber optic             No  ...               No   \n",
       "\n",
       "  TechSupport StreamingTV StreamingMovies        Contract PaperlessBilling  \\\n",
       "0          No          No              No  Month-to-month              Yes   \n",
       "1          No          No              No        One year               No   \n",
       "2          No          No              No  Month-to-month              Yes   \n",
       "3         Yes          No              No        One year               No   \n",
       "4          No          No              No  Month-to-month              Yes   \n",
       "\n",
       "               PaymentMethod MonthlyCharges  TotalCharges  Churn  \n",
       "0           Electronic check          29.85         29.85     No  \n",
       "1               Mailed check          56.95       1889.50     No  \n",
       "2               Mailed check          53.85        108.15    Yes  \n",
       "3  Bank transfer (automatic)          42.30       1840.75     No  \n",
       "4           Electronic check          70.70        151.65    Yes  \n",
       "\n",
       "[5 rows x 21 columns]"
      ]
     },
     "execution_count": 52,
     "metadata": {},
     "output_type": "execute_result"
    }
   ],
   "source": [
    "df.head()"
   ]
  },
  {
   "cell_type": "code",
   "execution_count": 55,
   "id": "b87ad2ec",
   "metadata": {},
   "outputs": [
    {
     "data": {
      "text/plain": [
       "Index(['gender', 'SeniorCitizen', 'Partner', 'Dependents', 'PhoneService',\n",
       "       'MultipleLines', 'InternetService', 'OnlineSecurity', 'OnlineBackup',\n",
       "       'DeviceProtection', 'TechSupport', 'StreamingTV', 'StreamingMovies',\n",
       "       'Contract', 'PaperlessBilling', 'PaymentMethod'],\n",
       "      dtype='object')"
      ]
     },
     "execution_count": 55,
     "metadata": {},
     "output_type": "execute_result"
    }
   ],
   "source": [
    "categorical_features = df.drop(columns=['Churn','customerID']).select_dtypes(include=['object']).columns\n",
    "# Converting  SeniorCitizen to oject format\n",
    "df['SeniorCitizen'] = df['SeniorCitizen'].astype(str)\n",
    "df.replace(to_replace={'SeniorCitizen':{'0':'No','1':'Yes'}},inplace=True)\n",
    "\n",
    "categorical_features"
   ]
  },
  {
   "cell_type": "code",
   "execution_count": 56,
   "id": "88ebd658",
   "metadata": {},
   "outputs": [
    {
     "data": {
      "image/png": "[encoded data removed]",
      "text/plain": [
       "<Figure size 1080x1800 with 16 Axes>"
      ]
     },
     "metadata": {},
     "output_type": "display_data"
    }
   ],
   "source": [
    "# Visualizing the features4\n",
    "sb.set_style(style='whitegrid')\n",
    "fig,axis = plt.subplots(nrows=4,ncols=4,figsize=(15,25),sharex=False,sharey=False)\n",
    "plt.suptitle(\"Categorical variable analysis\",fontsize=25)\n",
    "\n",
    "index_value = 0\n",
    "for i in range(4):\n",
    "    for j in range(4):\n",
    "        value_counts_data = df[categorical_features[index_value]].value_counts()\n",
    "        value_counts_data_churn = df[df['Churn']=='Yes'][categorical_features[index_value]].value_counts()\n",
    "        \n",
    "        sb.barplot(x=value_counts_data.index,y=value_counts_data.values,ax=axis[i][j],color='pink')\n",
    "        sb.barplot(x=value_counts_data_churn.index,y=value_counts_data_churn.values,color='khaki',ax=axis[i][j])\n",
    "        \n",
    "        axis[i][j].set_title(categorical_features[index_value],fontsize=18)\n",
    "        plt.xticks(rotation=45)\n",
    "        \n",
    "        index_value+=1"
   ]
  },
  {
   "cell_type": "markdown",
   "id": "62ec1c45",
   "metadata": {},
   "source": [
    "#  <h4> <center>Observations</center></h4>\n",
    "1. Apparantly important features: \n",
    "    - `Contract`: The longer the contract, less likely the customer to churn \n",
    "    - `PaymentMethod`: Majority of the customers who are churning are electronic check payment method. \n",
    "    - Customers having no `TechSupport`, no `OnlineBackup` and no `DeviceProtection` are likely to churn more.\n",
    "    - `InternetServices`: Customers who are having optic fiber are more likely to churn.\n",
    "    - `OnlineSecurity`: Customers with no online security are willing to churn more.\n"
   ]
  },
  {
   "cell_type": "markdown",
   "id": "05164661",
   "metadata": {},
   "source": [
    "### 5. Feature Engineering"
   ]
  },
  {
   "cell_type": "markdown",
   "id": "bd82bf40",
   "metadata": {},
   "source": [
    "#### Handling NaN values in the dataset"
   ]
  },
  {
   "cell_type": "code",
   "execution_count": 57,
   "id": "2d5ebbec",
   "metadata": {},
   "outputs": [
    {
     "data": {
      "text/plain": [
       "customerID           0\n",
       "gender               0\n",
       "SeniorCitizen        0\n",
       "Partner              0\n",
       "Dependents           0\n",
       "tenure               0\n",
       "PhoneService         0\n",
       "MultipleLines        0\n",
       "InternetService      0\n",
       "OnlineSecurity       0\n",
       "OnlineBackup         0\n",
       "DeviceProtection     0\n",
       "TechSupport          0\n",
       "StreamingTV          0\n",
       "StreamingMovies      0\n",
       "Contract             0\n",
       "PaperlessBilling     0\n",
       "PaymentMethod        0\n",
       "MonthlyCharges       0\n",
       "TotalCharges        11\n",
       "Churn                0\n",
       "dtype: int64"
      ]
     },
     "execution_count": 57,
     "metadata": {},
     "output_type": "execute_result"
    }
   ],
   "source": [
    "df.isna().sum()"
   ]
  },
  {
   "cell_type": "code",
   "execution_count": 58,
   "id": "71c9b4f3",
   "metadata": {},
   "outputs": [
    {
     "data": {
      "text/html": [
       "<div>\n",
       "<style scoped>\n",
       "    .dataframe tbody tr th:only-of-type {\n",
       "        vertical-align: middle;\n",
       "    }\n",
       "\n",
       "    .dataframe tbody tr th {\n",
       "        vertical-align: top;\n",
       "    }\n",
       "\n",
       "    .dataframe thead th {\n",
       "        text-align: right;\n",
       "    }\n",
       "</style>\n",
       "<table border=\"1\" class=\"dataframe\">\n",
       "  <thead>\n",
       "    <tr style=\"text-align: right;\">\n",
       "      <th></th>\n",
       "      <th>tenure</th>\n",
       "      <th>MonthlyCharges</th>\n",
       "    </tr>\n",
       "  </thead>\n",
       "  <tbody>\n",
       "    <tr>\n",
       "      <th>488</th>\n",
       "      <td>0</td>\n",
       "      <td>52.55</td>\n",
       "    </tr>\n",
       "    <tr>\n",
       "      <th>753</th>\n",
       "      <td>0</td>\n",
       "      <td>20.25</td>\n",
       "    </tr>\n",
       "    <tr>\n",
       "      <th>936</th>\n",
       "      <td>0</td>\n",
       "      <td>80.85</td>\n",
       "    </tr>\n",
       "    <tr>\n",
       "      <th>1082</th>\n",
       "      <td>0</td>\n",
       "      <td>25.75</td>\n",
       "    </tr>\n",
       "    <tr>\n",
       "      <th>1340</th>\n",
       "      <td>0</td>\n",
       "      <td>56.05</td>\n",
       "    </tr>\n",
       "    <tr>\n",
       "      <th>3331</th>\n",
       "      <td>0</td>\n",
       "      <td>19.85</td>\n",
       "    </tr>\n",
       "    <tr>\n",
       "      <th>3826</th>\n",
       "      <td>0</td>\n",
       "      <td>25.35</td>\n",
       "    </tr>\n",
       "    <tr>\n",
       "      <th>4380</th>\n",
       "      <td>0</td>\n",
       "      <td>20.00</td>\n",
       "    </tr>\n",
       "    <tr>\n",
       "      <th>5218</th>\n",
       "      <td>0</td>\n",
       "      <td>19.70</td>\n",
       "    </tr>\n",
       "    <tr>\n",
       "      <th>6670</th>\n",
       "      <td>0</td>\n",
       "      <td>73.35</td>\n",
       "    </tr>\n",
       "    <tr>\n",
       "      <th>6754</th>\n",
       "      <td>0</td>\n",
       "      <td>61.90</td>\n",
       "    </tr>\n",
       "  </tbody>\n",
       "</table>\n",
       "</div>"
      ],
      "text/plain": [
       "      tenure  MonthlyCharges\n",
       "488        0           52.55\n",
       "753        0           20.25\n",
       "936        0           80.85\n",
       "1082       0           25.75\n",
       "1340       0           56.05\n",
       "3331       0           19.85\n",
       "3826       0           25.35\n",
       "4380       0           20.00\n",
       "5218       0           19.70\n",
       "6670       0           73.35\n",
       "6754       0           61.90"
      ]
     },
     "execution_count": 58,
     "metadata": {},
     "output_type": "execute_result"
    }
   ],
   "source": [
    "df[df['TotalCharges'].isna()][['tenure','MonthlyCharges']]"
   ]
  },
  {
   "cell_type": "markdown",
   "id": "c85fbc9f",
   "metadata": {},
   "source": [
    "* `tenure` of the customers who are having `TotalCharge` as NaN is 0. that means they are the new customers and didn't pay any charges yet. It's better to keep 0 inplace of NaN in TotalCharges field."
   ]
  },
  {
   "cell_type": "code",
   "execution_count": 59,
   "id": "452c49ba",
   "metadata": {},
   "outputs": [
    {
     "data": {
      "text/plain": [
       "customerID          0\n",
       "gender              0\n",
       "SeniorCitizen       0\n",
       "Partner             0\n",
       "Dependents          0\n",
       "tenure              0\n",
       "PhoneService        0\n",
       "MultipleLines       0\n",
       "InternetService     0\n",
       "OnlineSecurity      0\n",
       "OnlineBackup        0\n",
       "DeviceProtection    0\n",
       "TechSupport         0\n",
       "StreamingTV         0\n",
       "StreamingMovies     0\n",
       "Contract            0\n",
       "PaperlessBilling    0\n",
       "PaymentMethod       0\n",
       "MonthlyCharges      0\n",
       "TotalCharges        0\n",
       "Churn               0\n",
       "dtype: int64"
      ]
     },
     "execution_count": 59,
     "metadata": {},
     "output_type": "execute_result"
    }
   ],
   "source": [
    "# Imputing 0 inplace in TotalCharges features\n",
    "df['TotalCharges'] = df['TotalCharges'].fillna(0)\n",
    "df.isna().sum()"
   ]
  },
  {
   "cell_type": "code",
   "execution_count": 61,
   "id": "64c625f2",
   "metadata": {},
   "outputs": [],
   "source": [
    "# Creating a copy of the Data frame for Power BI project\n",
    "df_bi = df.copy()"
   ]
  },
  {
   "cell_type": "code",
   "execution_count": 62,
   "id": "b57a4303",
   "metadata": {},
   "outputs": [
    {
     "name": "stdout",
     "output_type": "stream",
     "text": [
      "(7043, 20)\n",
      "(7043,)\n"
     ]
    }
   ],
   "source": [
    "# Dividing the data into target and independent variable sets\n",
    "X = df.drop('Churn',axis=1)\n",
    "y = df['Churn']\n",
    "print(X.shape)\n",
    "print(y.shape)"
   ]
  },
  {
   "cell_type": "code",
   "execution_count": 63,
   "id": "be71ec78",
   "metadata": {},
   "outputs": [
    {
     "data": {
      "text/plain": [
       "Index(['gender', 'SeniorCitizen', 'Partner', 'Dependents', 'tenure',\n",
       "       'PhoneService', 'MultipleLines', 'InternetService', 'OnlineSecurity',\n",
       "       'OnlineBackup', 'DeviceProtection', 'TechSupport', 'StreamingTV',\n",
       "       'StreamingMovies', 'Contract', 'PaperlessBilling', 'PaymentMethod',\n",
       "       'MonthlyCharges', 'TotalCharges'],\n",
       "      dtype='object')"
      ]
     },
     "execution_count": 63,
     "metadata": {},
     "output_type": "execute_result"
    }
   ],
   "source": [
    "# Dropping the features that are irrelevent in  prediction \n",
    "cols_to_drop = ['customerID']\n",
    "X.drop(columns=cols_to_drop,axis=1,inplace=True)\n",
    "X.columns"
   ]
  },
  {
   "cell_type": "code",
   "execution_count": 73,
   "id": "e3ad9ba8",
   "metadata": {},
   "outputs": [],
   "source": [
    "# Performing Encoding on Categorical Features\n",
    "cat_features = X.select_dtypes(include=['object']).columns\n",
    "# Performing Label Encoding \n",
    "from sklearn.preprocessing import LabelEncoder\n",
    "LE  = LabelEncoder()\n",
    "for i in cat_features:\n",
    "    X[i] = LE.fit_transform(X[i])\n",
    "\n",
    "# Encoding the target values: {No: 0, Yes: 1}\n",
    "y.replace(to_replace=({'No':0,'Yes':1}),inplace=True)"
   ]
  },
  {
   "cell_type": "code",
   "execution_count": 74,
   "id": "b3e105b4",
   "metadata": {},
   "outputs": [],
   "source": [
    "# !pip install -U threadpoolctl"
   ]
  },
  {
   "cell_type": "code",
   "execution_count": 75,
   "id": "430377ac",
   "metadata": {},
   "outputs": [],
   "source": [
    "# ! pip install scikit-learn==1.2.2"
   ]
  },
  {
   "cell_type": "code",
   "execution_count": 76,
   "id": "565f7e92",
   "metadata": {},
   "outputs": [],
   "source": [
    "# Handling imbalanced data: As our dataset is small, performing Oversampling to avoid the effect of data loss in undersampling\n",
    "from imblearn.over_sampling import SMOTE\n",
    "over_sample = SMOTE(k_neighbors=5,n_jobs=-1)\n",
    "X_over_sampled,y_over_sampled = over_sample.fit_resample(X,y)"
   ]
  },
  {
   "cell_type": "code",
   "execution_count": 77,
   "id": "e217c8c8",
   "metadata": {},
   "outputs": [
    {
     "data": {
      "text/plain": [
       "<AxesSubplot:xlabel='count', ylabel='Churn'>"
      ]
     },
     "execution_count": 77,
     "metadata": {},
     "output_type": "execute_result"
    },
    {
     "data": {
      "image/png": "[encoded data removed]",
      "text/plain": [
       "<Figure size 432x288 with 1 Axes>"
      ]
     },
     "metadata": {},
     "output_type": "display_data"
    }
   ],
   "source": [
    "sb.countplot(y=y_over_sampled)"
   ]
  },
  {
   "cell_type": "code",
   "execution_count": 78,
   "id": "04589106",
   "metadata": {},
   "outputs": [],
   "source": [
    "# Dividing the data into train and test splits\n",
    "from sklearn.model_selection import train_test_split\n",
    "X_train,X_test,y_train,y_test = train_test_split(X_over_sampled,y_over_sampled,test_size=0.1,random_state=120)"
   ]
  },
  {
   "cell_type": "markdown",
   "id": "b5269e90",
   "metadata": {},
   "source": [
    "Our goal is to test an entire suite of classification algorithms on our data in order to pick out the candidates that are best suited to the structure of our problem.  In order to make the comparison a fair one, we must scale our features because some of the algorithms to be tested (Logistic Regression, SVM, Linear Discriminant Analysis, and KNN) are based on the assumption that data is standardized and centered around 0."
   ]
  },
  {
   "cell_type": "code",
   "execution_count": 79,
   "id": "69e387fb",
   "metadata": {},
   "outputs": [
    {
     "data": {
      "text/plain": [
       "Index(['tenure', 'MonthlyCharges', 'TotalCharges', 'Churn'], dtype='object')"
      ]
     },
     "execution_count": 79,
     "metadata": {},
     "output_type": "execute_result"
    }
   ],
   "source": [
    "# Performing Scaling on the numerical features\n",
    "num_features = df.select_dtypes(exclude=['object']).columns\n",
    "num_features"
   ]
  },
  {
   "cell_type": "code",
   "execution_count": 80,
   "id": "9d3ec493",
   "metadata": {},
   "outputs": [
    {
     "data": {
      "text/plain": [
       "array([[ 1.1540137 , -0.40152453, -0.77328862, ...,  0.44985295,\n",
       "         0.0676249 , -0.89934116],\n",
       "       [-0.86654084, -0.40152453,  1.29317822, ...,  0.44985295,\n",
       "        -0.50889093,  0.47412444],\n",
       "       [ 1.1540137 , -0.40152453,  1.29317822, ..., -0.55771812,\n",
       "         0.18988287,  1.53529989],\n",
       "       ...,\n",
       "       [ 1.1540137 , -0.40152453,  1.29317822, ..., -0.55771812,\n",
       "        -0.60821788, -0.17027001],\n",
       "       [ 1.1540137 , -0.40152453, -0.77328862, ...,  0.44985295,\n",
       "        -0.49843546,  0.53996589],\n",
       "       [ 1.1540137 , -0.40152453, -0.77328862, ..., -0.55771812,\n",
       "         0.42033138,  0.02953256]])"
      ]
     },
     "execution_count": 80,
     "metadata": {},
     "output_type": "execute_result"
    }
   ],
   "source": [
    "from sklearn.preprocessing import StandardScaler\n",
    "sc = StandardScaler()\n",
    "X_train_scaled = sc.fit_transform(X_train)\n",
    "X_test_scaled = sc.transform(X_test)\n",
    "X_train_scaled"
   ]
  },
  {
   "cell_type": "markdown",
   "id": "17776fda",
   "metadata": {},
   "source": [
    "### Analysis of different models\n",
    "In order to choose our final model, we will first evaluate an entire suite of algorithms to determine which candidates are best suited for the structure of our project.  \n",
    "\n",
    "Let's start comparing!"
   ]
  },
  {
   "cell_type": "markdown",
   "id": "0b4c6867",
   "metadata": {},
   "source": [
    "### Test Suite"
   ]
  },
  {
   "cell_type": "code",
   "execution_count": 81,
   "id": "c0f1df36",
   "metadata": {},
   "outputs": [
    {
     "name": "stdout",
     "output_type": "stream",
     "text": [
      "{'LR': {'model_name': 'LR', 'mean_of_score': 0.8054973297056766, 'score_std': 0.009905320339112275}, 'LDA': {'model_name': 'LDA', 'mean_of_score': 0.7999348267148203, 'score_std': 0.00949187487595037}, 'KNN': {'model_name': 'KNN', 'mean_of_score': 0.7896918048514431, 'score_std': 0.007524071796818924}, 'Bayes': {'model_name': 'Bayes', 'mean_of_score': 0.7838290112214052, 'score_std': 0.009733715033874614}, 'SVM': {'model_name': 'SVM', 'mean_of_score': 0.8247182252848592, 'score_std': 0.008777252817590401}, 'XGboost': {'model_name': 'XGboost', 'mean_of_score': 0.8444324752530048, 'score_std': 0.007651734700676523}}\n"
     ]
    }
   ],
   "source": [
    "from sklearn.model_selection import RepeatedStratifiedKFold, cross_val_score\n",
    "from sklearn.linear_model import LogisticRegression\n",
    "from sklearn.discriminant_analysis import LinearDiscriminantAnalysis\n",
    "from sklearn.neighbors import KNeighborsClassifier\n",
    "from sklearn.naive_bayes import GaussianNB\n",
    "from sklearn.svm import SVC\n",
    "from xgboost import XGBClassifier\n",
    "\n",
    "# Initializing our test suite\n",
    "cv = RepeatedStratifiedKFold(n_splits=5,n_repeats=5,random_state=41)\n",
    "final_results = {}\n",
    "model_names=[]\n",
    "model_names.append(('LR',LogisticRegression(max_iter=120)))\n",
    "model_names.append(('LDA',LinearDiscriminantAnalysis()))\n",
    "model_names.append(('KNN',KNeighborsClassifier()))\n",
    "model_names.append(('Bayes',GaussianNB()))\n",
    "model_names.append(('SVM',SVC()))\n",
    "model_names.append(('XGboost',XGBClassifier()))\n",
    "\n",
    "# Running the test suite\n",
    "for name,model in model_names:\n",
    "    score = cross_val_score(model,X=X_train_scaled,y=y_train,cv=cv,n_jobs=-1)\n",
    "    results = {}\n",
    "    results['model_name'] = name\n",
    "    results['mean_of_score'] = score.mean()\n",
    "    results['score_std'] = score.std()\n",
    "    final_results[name] = results\n",
    "    \n",
    "print(final_results)\n",
    "    \n",
    "    \n"
   ]
  },
  {
   "cell_type": "code",
   "execution_count": 82,
   "id": "804fdce2",
   "metadata": {},
   "outputs": [
    {
     "data": {
      "image/png": "[encoded data removed]",
      "text/plain": [
       "<Figure size 1080x504 with 1 Axes>"
      ]
     },
     "metadata": {},
     "output_type": "display_data"
    }
   ],
   "source": [
    "means = []\n",
    "models=[]\n",
    "stds=[]\n",
    "for i in final_results.keys():\n",
    "    models.append(i)\n",
    "    means.append(final_results[i]['mean_of_score'])\n",
    "    stds.append(final_results[i]['score_std'])\n",
    "results_df = pd.DataFrame({'Model_name':models,\"Score_mean\":means,\"Score_std\":stds})\n",
    "plt.figure(figsize=(15,7))\n",
    "sb.boxplot(data=results_df,x='Model_name',y='Score_mean')\n",
    "plt.errorbar(x=results_df['Model_name'],y=results_df['Score_mean'],yerr=results_df['Score_std'],fmt='none',capsize=8,color='black')\n",
    "plt.show()"
   ]
  },
  {
   "cell_type": "markdown",
   "id": "e5731c2b",
   "metadata": {},
   "source": [
    "As we can see, our **XGBoost** and **SVM** models performed the best with other models\n",
    "\n",
    "For this project, we will select XGBoost and SVM for further hyperparameter tuning due to their high predictive potential."
   ]
  },
  {
   "cell_type": "markdown",
   "id": "5851a94c",
   "metadata": {},
   "source": [
    "### Performing Hyper parameter tuning inorder to fine tune our model\n"
   ]
  },
  {
   "cell_type": "code",
   "execution_count": 83,
   "id": "ef426cea",
   "metadata": {},
   "outputs": [],
   "source": [
    "# Implementing Randomized gridsearch CV\n"
   ]
  },
  {
   "cell_type": "code",
   "execution_count": 84,
   "id": "edec8b26",
   "metadata": {},
   "outputs": [
    {
     "data": {
      "text/plain": [
       "{'n_estimators': 100, 'max_depth': 11, 'learning_rate': 0.1, 'lambda': 0.1}"
      ]
     },
     "execution_count": 84,
     "metadata": {},
     "output_type": "execute_result"
    }
   ],
   "source": [
    "from sklearn.model_selection import RandomizedSearchCV\n",
    "random_grid = {\n",
    "    'n_estimators':[20,50,30,80,100],\n",
    "    'max_depth':[3,5,7,9,11],\n",
    "    'learning_rate':[0.01,0.03,0.05,0.07,0.1],\n",
    "    'lambda':[1e-3,1e-1,2,4,6,10],\n",
    "    \n",
    "}\n",
    "RandomCv = RandomizedSearchCV(estimator=XGBClassifier(),param_distributions=random_grid,n_iter=100,cv=5,n_jobs=-1)\n",
    "RandomCv.fit(X_train_scaled,y_train)\n",
    "RandomCv.best_params_\n"
   ]
  },
  {
   "cell_type": "code",
   "execution_count": 85,
   "id": "ec48c106",
   "metadata": {},
   "outputs": [
    {
     "data": {
      "text/plain": [
       "{'learning_rate': 0.1, 'max_depth': 13, 'n_estimators': 110}"
      ]
     },
     "execution_count": 85,
     "metadata": {},
     "output_type": "execute_result"
    }
   ],
   "source": [
    "# Performing Grid searchCv based on the results of Randomsearch CV\n",
    "from sklearn.model_selection import GridSearchCV\n",
    "grid = {\n",
    "    'n_estimators':[90,95,100,105,110],\n",
    "    'max_depth':[8,11,13,15],\n",
    "    'learning_rate':[0.1,0.2,0.9,0.07,0.04]\n",
    "    \n",
    "}\n",
    "\n",
    "GCV = GridSearchCV(estimator=XGBClassifier(),param_grid=grid,n_jobs=-1,cv=5)\n",
    "GCV.fit(X_train_scaled,y_train)\n",
    "GCV.best_params_\n"
   ]
  },
  {
   "cell_type": "code",
   "execution_count": 86,
   "id": "6944c9f8",
   "metadata": {},
   "outputs": [],
   "source": [
    "XGB = XGBClassifier(learning_rate= 0.1, max_depth= 8, n_estimators= 95)\n",
    "XGB.fit(X_train_scaled,y_train)\n",
    "\n",
    "y_predict = XGB.predict(X_test_scaled)\n",
    "\n"
   ]
  },
  {
   "cell_type": "code",
   "execution_count": 87,
   "id": "d35feae9",
   "metadata": {},
   "outputs": [
    {
     "name": "stdout",
     "output_type": "stream",
     "text": [
      "              precision    recall  f1-score   support\n",
      "\n",
      "           0       0.83      0.87      0.85       531\n",
      "           1       0.86      0.81      0.83       504\n",
      "\n",
      "    accuracy                           0.84      1035\n",
      "   macro avg       0.84      0.84      0.84      1035\n",
      "weighted avg       0.84      0.84      0.84      1035\n",
      "\n"
     ]
    }
   ],
   "source": [
    "from sklearn.metrics import classification_report,confusion_matrix,ConfusionMatrixDisplay\n",
    "print(classification_report(y_predict,y_test))"
   ]
  },
  {
   "cell_type": "code",
   "execution_count": 88,
   "id": "af317b7f",
   "metadata": {},
   "outputs": [
    {
     "data": {
      "image/png": "[encoded data removed]",
      "text/plain": [
       "<Figure size 432x288 with 2 Axes>"
      ]
     },
     "metadata": {},
     "output_type": "display_data"
    }
   ],
   "source": [
    "cm = confusion_matrix(y_test,y_predict,labels=XGB.classes_)\n",
    "display = ConfusionMatrixDisplay(confusion_matrix=cm,display_labels=XGB.classes_)\n",
    "display.plot()\n",
    "plt.grid()\n",
    "plt.show()"
   ]
  },
  {
   "cell_type": "markdown",
   "id": "57634350",
   "metadata": {},
   "source": [
    "In this project, we analyzed customer data to predict whether customers would churn or not churn.\n",
    "Our trained model had the following predictive potential:\n",
    "\n",
    " **XGBoost**: 0.84\n",
    "\n",
    "\n",
    "As for our next steps, we will pass over the XGBoost model to the company's Customer Retention group in order to better inform their business strategy. By targeting those customers who are most likely to churn, the company would be able to cut costs via more efficient allocation of resources towards customer interaction programs. \n",
    "\n",
    "Furthermore, the company would enjoy increased revenue via its improved retention strategy.  By using our model to help convert 'high-flight-risk' customers to a more loyal following, the company would be looking at maintaing a valuable, mutually-beneficial relationship with its customer base for many years to come."
   ]
  },
  {
   "cell_type": "code",
   "execution_count": null,
   "id": "ffef8d4e",
   "metadata": {},
   "outputs": [],
   "source": []
  },
  {
   "cell_type": "markdown",
   "id": "0e370729",
   "metadata": {},
   "source": [
    "## Performing prediction for all the customers (Required for Power BI project):"
   ]
  },
  {
   "cell_type": "code",
   "execution_count": 91,
   "id": "56c4f15e",
   "metadata": {},
   "outputs": [
    {
     "data": {
      "text/html": [
       "<div>\n",
       "<style scoped>\n",
       "    .dataframe tbody tr th:only-of-type {\n",
       "        vertical-align: middle;\n",
       "    }\n",
       "\n",
       "    .dataframe tbody tr th {\n",
       "        vertical-align: top;\n",
       "    }\n",
       "\n",
       "    .dataframe thead th {\n",
       "        text-align: right;\n",
       "    }\n",
       "</style>\n",
       "<table border=\"1\" class=\"dataframe\">\n",
       "  <thead>\n",
       "    <tr style=\"text-align: right;\">\n",
       "      <th></th>\n",
       "      <th>customerID</th>\n",
       "      <th>gender</th>\n",
       "      <th>SeniorCitizen</th>\n",
       "      <th>Partner</th>\n",
       "      <th>Dependents</th>\n",
       "      <th>tenure</th>\n",
       "      <th>PhoneService</th>\n",
       "      <th>MultipleLines</th>\n",
       "      <th>InternetService</th>\n",
       "      <th>OnlineSecurity</th>\n",
       "      <th>...</th>\n",
       "      <th>DeviceProtection</th>\n",
       "      <th>TechSupport</th>\n",
       "      <th>StreamingTV</th>\n",
       "      <th>StreamingMovies</th>\n",
       "      <th>Contract</th>\n",
       "      <th>PaperlessBilling</th>\n",
       "      <th>PaymentMethod</th>\n",
       "      <th>MonthlyCharges</th>\n",
       "      <th>TotalCharges</th>\n",
       "      <th>Churn</th>\n",
       "    </tr>\n",
       "  </thead>\n",
       "  <tbody>\n",
       "    <tr>\n",
       "      <th>3032</th>\n",
       "      <td>5696-EXCYS</td>\n",
       "      <td>Male</td>\n",
       "      <td>No</td>\n",
       "      <td>No</td>\n",
       "      <td>No</td>\n",
       "      <td>17</td>\n",
       "      <td>Yes</td>\n",
       "      <td>No</td>\n",
       "      <td>No</td>\n",
       "      <td>No internet service</td>\n",
       "      <td>...</td>\n",
       "      <td>No internet service</td>\n",
       "      <td>No internet service</td>\n",
       "      <td>No internet service</td>\n",
       "      <td>No internet service</td>\n",
       "      <td>Two year</td>\n",
       "      <td>No</td>\n",
       "      <td>Credit card (automatic)</td>\n",
       "      <td>19.45</td>\n",
       "      <td>369.05</td>\n",
       "      <td>No</td>\n",
       "    </tr>\n",
       "    <tr>\n",
       "      <th>3295</th>\n",
       "      <td>4900-MSOMT</td>\n",
       "      <td>Female</td>\n",
       "      <td>No</td>\n",
       "      <td>Yes</td>\n",
       "      <td>Yes</td>\n",
       "      <td>72</td>\n",
       "      <td>Yes</td>\n",
       "      <td>Yes</td>\n",
       "      <td>DSL</td>\n",
       "      <td>Yes</td>\n",
       "      <td>...</td>\n",
       "      <td>Yes</td>\n",
       "      <td>Yes</td>\n",
       "      <td>Yes</td>\n",
       "      <td>No</td>\n",
       "      <td>Two year</td>\n",
       "      <td>No</td>\n",
       "      <td>Bank transfer (automatic)</td>\n",
       "      <td>80.20</td>\n",
       "      <td>5714.20</td>\n",
       "      <td>No</td>\n",
       "    </tr>\n",
       "    <tr>\n",
       "      <th>3338</th>\n",
       "      <td>1513-XNPPH</td>\n",
       "      <td>Female</td>\n",
       "      <td>No</td>\n",
       "      <td>No</td>\n",
       "      <td>No</td>\n",
       "      <td>12</td>\n",
       "      <td>Yes</td>\n",
       "      <td>No</td>\n",
       "      <td>Fiber optic</td>\n",
       "      <td>No</td>\n",
       "      <td>...</td>\n",
       "      <td>Yes</td>\n",
       "      <td>Yes</td>\n",
       "      <td>No</td>\n",
       "      <td>Yes</td>\n",
       "      <td>Month-to-month</td>\n",
       "      <td>Yes</td>\n",
       "      <td>Electronic check</td>\n",
       "      <td>89.40</td>\n",
       "      <td>1095.65</td>\n",
       "      <td>Yes</td>\n",
       "    </tr>\n",
       "  </tbody>\n",
       "</table>\n",
       "<p>3 rows × 21 columns</p>\n",
       "</div>"
      ],
      "text/plain": [
       "      customerID  gender SeniorCitizen Partner Dependents  tenure  \\\n",
       "3032  5696-EXCYS    Male            No      No         No      17   \n",
       "3295  4900-MSOMT  Female            No     Yes        Yes      72   \n",
       "3338  1513-XNPPH  Female            No      No         No      12   \n",
       "\n",
       "     PhoneService MultipleLines InternetService       OnlineSecurity  ...  \\\n",
       "3032          Yes            No              No  No internet service  ...   \n",
       "3295          Yes           Yes             DSL                  Yes  ...   \n",
       "3338          Yes            No     Fiber optic                   No  ...   \n",
       "\n",
       "         DeviceProtection          TechSupport          StreamingTV  \\\n",
       "3032  No internet service  No internet service  No internet service   \n",
       "3295                  Yes                  Yes                  Yes   \n",
       "3338                  Yes                  Yes                   No   \n",
       "\n",
       "          StreamingMovies        Contract PaperlessBilling  \\\n",
       "3032  No internet service        Two year               No   \n",
       "3295                   No        Two year               No   \n",
       "3338                  Yes  Month-to-month              Yes   \n",
       "\n",
       "                  PaymentMethod MonthlyCharges  TotalCharges  Churn  \n",
       "3032    Credit card (automatic)          19.45        369.05     No  \n",
       "3295  Bank transfer (automatic)          80.20       5714.20     No  \n",
       "3338           Electronic check          89.40       1095.65    Yes  \n",
       "\n",
       "[3 rows x 21 columns]"
      ]
     },
     "execution_count": 91,
     "metadata": {},
     "output_type": "execute_result"
    }
   ],
   "source": [
    "df_bi.sample(3)"
   ]
  },
  {
   "cell_type": "code",
   "execution_count": 110,
   "id": "8b3c5dc1",
   "metadata": {},
   "outputs": [],
   "source": [
    "# Identifying the Target and Independent variables\n",
    "X = df_bi.drop(['customerID','Churn'],axis=1)\n",
    "cust_id = df_bi['customerID']\n",
    "y = df_bi['Churn']\n"
   ]
  },
  {
   "cell_type": "code",
   "execution_count": 111,
   "id": "27504224",
   "metadata": {},
   "outputs": [],
   "source": [
    "# Encoding the categorical features \n",
    "\n",
    "cat_features = X.select_dtypes('object').columns\n",
    "for i in cat_features:\n",
    "    X[i] = LE.fit_transform(X[i])\n",
    "\n",
    "# Encoding the target values: {No: 0, Yes: 1}\n",
    "y.replace(to_replace=({'No':0,'Yes':1}),inplace=True)"
   ]
  },
  {
   "cell_type": "code",
   "execution_count": 112,
   "id": "0a72181b",
   "metadata": {},
   "outputs": [],
   "source": [
    "# Encoding the num_features \n",
    "X_scaled = sc.transform(X)"
   ]
  },
  {
   "cell_type": "code",
   "execution_count": 115,
   "id": "b704d5db",
   "metadata": {},
   "outputs": [],
   "source": [
    "# Predicting with the trained model \n",
    "predicted_result = XGB.predict(X_scaled)"
   ]
  },
  {
   "cell_type": "code",
   "execution_count": 121,
   "id": "151f352a",
   "metadata": {},
   "outputs": [
    {
     "name": "stdout",
     "output_type": "stream",
     "text": [
      "Accuracy of the prediction :  0.8945051824506602\n",
      "Recall of the prediction :  0.8640984483681113\n",
      "Classification report of the prediction :\n",
      "                precision    recall  f1-score   support\n",
      "\n",
      "           0       0.95      0.91      0.93      5174\n",
      "           1       0.77      0.86      0.81      1869\n",
      "\n",
      "    accuracy                           0.89      7043\n",
      "   macro avg       0.86      0.88      0.87      7043\n",
      "weighted avg       0.90      0.89      0.90      7043\n",
      "\n"
     ]
    }
   ],
   "source": [
    "# Evaluating the results\n",
    "from sklearn.metrics import confusion_matrix, accuracy_score, recall_score, classification_report\n",
    "print(\"Accuracy of the prediction : \",accuracy_score(y,predicted_result))\n",
    "print(\"Recall of the prediction : \",recall_score(y,predicted_result))\n",
    "print(\"Classification report of the prediction :\\n \",classification_report(y,predicted_result))"
   ]
  },
  {
   "cell_type": "code",
   "execution_count": 122,
   "id": "3bb8e95a",
   "metadata": {},
   "outputs": [],
   "source": [
    "# Predicting the probabilities \n",
    "predicted_probability = XGB.predict_proba(X_scaled)\n"
   ]
  },
  {
   "cell_type": "code",
   "execution_count": 131,
   "id": "4e8b57df",
   "metadata": {},
   "outputs": [],
   "source": [
    "# Generating the output data frame\n",
    "df_bi[\"predicted_churn\"] = predicted_result\n",
    "df_bi[\"predicted_probability\"] = predicted_probability[:,1]"
   ]
  },
  {
   "cell_type": "code",
   "execution_count": 133,
   "id": "aa8e0c45",
   "metadata": {},
   "outputs": [],
   "source": [
    "# Exporting the data frame\n",
    "excel_filename = \"prediction_results.xlsx\"\n",
    "df_bi.to_excel(excel_filename, index=False)"
   ]
  },
  {
   "cell_type": "code",
   "execution_count": null,
   "id": "f9110d33",
   "metadata": {},
   "outputs": [],
   "source": []
  }
 ],
 "metadata": {
  "kernelspec": {
   "display_name": "Python 3 (ipykernel)",
   "language": "python",
   "name": "python3"
  },
  "language_info": {
   "codemirror_mode": {
    "name": "ipython",
    "version": 3
   },
   "file_extension": ".py",
   "mimetype": "text/x-python",
   "name": "python",
   "nbconvert_exporter": "python",
   "pygments_lexer": "ipython3",
   "version": "3.9.12"
  }
 },
 "nbformat": 4,
 "nbformat_minor": 5
}
